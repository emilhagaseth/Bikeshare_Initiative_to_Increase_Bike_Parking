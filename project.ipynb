{
 "cells": [
  {
   "cell_type": "markdown",
   "metadata": {},
   "source": [
    "# CME538 - Introduction to Data Science \n",
    "## Project 2 - Toronto Bike Share \n",
    "## Nonamegroup3 - Samir Alhasan, Abdulah Al-Jalaad and Emil Hagaseth"
   ]
  },
  {
   "cell_type": "markdown",
   "metadata": {},
   "source": [
    "### Setup Notebook"
   ]
  },
  {
   "cell_type": "code",
   "execution_count": 1,
   "metadata": {},
   "outputs": [],
   "source": [
    "# Import 3rd party libraries\n",
    "import os\n",
    "import pandas as pd\n",
    "import seaborn as sns\n",
    "import matplotlib.pylab as plt\n",
    "import pytz\n",
    "\n",
    "# Configure Notebook\n",
    "%matplotlib inline\n",
    "plt.style.use('fivethirtyeight')\n",
    "sns.set_context(\"notebook\")\n",
    "import warnings\n",
    "warnings.filterwarnings('ignore')"
   ]
  },
  {
   "cell_type": "markdown",
   "metadata": {},
   "source": [
    "### Weather Data Import"
   ]
  },
  {
   "cell_type": "code",
   "execution_count": 2,
   "metadata": {},
   "outputs": [
    {
     "name": "stdout",
     "output_type": "stream",
     "text": [
      "['en_climate_hourly_ON_6158359_01-2017_P1H.csv', 'en_climate_hourly_ON_6158359_01-2018_P1H.csv', 'en_climate_hourly_ON_6158359_01-2019_P1H.csv', 'en_climate_hourly_ON_6158359_01-2020_P1H.csv', 'en_climate_hourly_ON_6158359_01-2021_P1H.csv']\n"
     ]
    }
   ],
   "source": [
    "# Set weather data path\n",
    "path_weather = os.path.join(os.path.abspath(os.getcwd()), 'data', 'weather')\n",
    "\n",
    "# Get weather file names\n",
    "weather_filenames = [filename for filename in os.listdir(path_weather) if 'climate' in filename]\n",
    "\n",
    "# Print file names\n",
    "print(weather_filenames[0:5])"
   ]
  },
  {
   "cell_type": "markdown",
   "metadata": {},
   "source": [
    "### Bike Share Trip Data Import"
   ]
  },
  {
   "cell_type": "code",
   "execution_count": 3,
   "metadata": {},
   "outputs": [
    {
     "name": "stdout",
     "output_type": "stream",
     "text": [
      "2017\n",
      "['trip_id', 'trip_start_time', 'trip_stop_time', 'trip_duration_seconds', 'from_station_id', 'from_station_name', 'to_station_id', 'to_station_name', 'user_type']\n",
      "\n",
      "2018\n",
      "['trip_id', 'trip_duration_seconds', 'from_station_id', 'trip_start_time', 'from_station_name', 'trip_stop_time', 'to_station_id', 'to_station_name', 'user_type']\n",
      "\n",
      "2019\n",
      "['Trip Id', 'Subscription Id', 'Trip  Duration', 'Start Station Id', 'Start Time', 'Start Station Name', 'End Station Id', 'End Time', 'End Station Name', 'Bike Id', 'User Type']\n",
      "\n",
      "2020\n",
      "['Trip Id', 'Subscription Id', 'Trip  Duration', 'Start Station Id', 'Start Time', 'Start Station Name', 'End Station Id', 'End Time', 'End Station Name', 'Bike Id', 'User Type']\n",
      "\n",
      "2021\n",
      "['Trip Id', 'Trip  Duration', 'Start Station Id', 'Start Time', 'Start Station Name', 'End Station Id', 'End Time', 'End Station Name', 'Bike Id', 'User Type']\n",
      "\n",
      "2022\n",
      "['Trip Id', 'Trip  Duration', 'Start Station Id', 'Start Time', 'Start Station Name', 'End Station Id', 'End Time', 'End Station Name', 'Bike Id', 'User Type']\n",
      "\n"
     ]
    }
   ],
   "source": [
    "# Set bikeshare data path\n",
    "path_ridership = os.path.join(os.path.abspath(os.getcwd()), 'data', 'ridership')\n",
    "\n",
    "# Create a list of file names for bike share trips data\n",
    "trips_filenames = [filename for filename in os.listdir(os.path.join(path_ridership, 'release')) if 'bike_share' in filename]\n",
    "\n",
    "# Create a dictionary where key:value pairs correspond to the file name and DataFrame respectively\n",
    "trips_data = {filename: pd.read_csv(os.path.join(path_ridership, 'release', filename)) for filename in trips_filenames}  \n",
    "\n",
    "# Now lets print out the column names for the first month of each year\n",
    "print('2017\\n{}\\n'.format(trips_data['bike_share_2017-1.csv'].columns.tolist()))\n",
    "print('2018\\n{}\\n'.format(trips_data['bike_share_2018-1.csv'].columns.tolist()))\n",
    "print('2019\\n{}\\n'.format(trips_data['bike_share_2019-1.csv'].columns.tolist()))\n",
    "print('2020\\n{}\\n'.format(trips_data['bike_share_2020-1.csv'].columns.tolist()))\n",
    "print('2021\\n{}\\n'.format(trips_data['bike_share_2021-1.csv'].columns.tolist()))\n",
    "print('2022\\n{}\\n'.format(trips_data['bike_share_2022-1.csv'].columns.tolist()))"
   ]
  },
  {
   "cell_type": "markdown",
   "metadata": {},
   "source": [
    "### Station Data Import"
   ]
  },
  {
   "cell_type": "code",
   "execution_count": 4,
   "metadata": {},
   "outputs": [
    {
     "data": {
      "text/html": [
       "<div>\n",
       "<style scoped>\n",
       "    .dataframe tbody tr th:only-of-type {\n",
       "        vertical-align: middle;\n",
       "    }\n",
       "\n",
       "    .dataframe tbody tr th {\n",
       "        vertical-align: top;\n",
       "    }\n",
       "\n",
       "    .dataframe thead th {\n",
       "        text-align: right;\n",
       "    }\n",
       "</style>\n",
       "<table border=\"1\" class=\"dataframe\">\n",
       "  <thead>\n",
       "    <tr style=\"text-align: right;\">\n",
       "      <th></th>\n",
       "      <th>station_id</th>\n",
       "      <th>name</th>\n",
       "      <th>lat</th>\n",
       "      <th>lon</th>\n",
       "    </tr>\n",
       "  </thead>\n",
       "  <tbody>\n",
       "    <tr>\n",
       "      <th>0</th>\n",
       "      <td>7000</td>\n",
       "      <td>Fort York  Blvd / Capreol Ct</td>\n",
       "      <td>43.639832</td>\n",
       "      <td>-79.395954</td>\n",
       "    </tr>\n",
       "    <tr>\n",
       "      <th>1</th>\n",
       "      <td>7001</td>\n",
       "      <td>Wellesley Station Green P</td>\n",
       "      <td>43.664964</td>\n",
       "      <td>-79.383550</td>\n",
       "    </tr>\n",
       "    <tr>\n",
       "      <th>2</th>\n",
       "      <td>7002</td>\n",
       "      <td>St. George St / Bloor St W</td>\n",
       "      <td>43.667333</td>\n",
       "      <td>-79.399429</td>\n",
       "    </tr>\n",
       "    <tr>\n",
       "      <th>3</th>\n",
       "      <td>7003</td>\n",
       "      <td>Madison Ave / Bloor St W</td>\n",
       "      <td>43.667158</td>\n",
       "      <td>-79.402761</td>\n",
       "    </tr>\n",
       "    <tr>\n",
       "      <th>4</th>\n",
       "      <td>7004</td>\n",
       "      <td>University Ave / Elm St</td>\n",
       "      <td>43.656518</td>\n",
       "      <td>-79.389099</td>\n",
       "    </tr>\n",
       "  </tbody>\n",
       "</table>\n",
       "</div>"
      ],
      "text/plain": [
       "   station_id                          name        lat        lon\n",
       "0        7000  Fort York  Blvd / Capreol Ct  43.639832 -79.395954\n",
       "1        7001     Wellesley Station Green P  43.664964 -79.383550\n",
       "2        7002    St. George St / Bloor St W  43.667333 -79.399429\n",
       "3        7003      Madison Ave / Bloor St W  43.667158 -79.402761\n",
       "4        7004       University Ave / Elm St  43.656518 -79.389099"
      ]
     },
     "execution_count": 4,
     "metadata": {},
     "output_type": "execute_result"
    }
   ],
   "source": [
    "# Set stations data path\n",
    "path_ridership = os.path.join(os.path.abspath(os.getcwd()), 'data', 'stations')\n",
    "\n",
    "# Import stations\n",
    "stations = pd.read_csv(os.path.join(path_ridership, 'bikeshare_stations.csv'))\n",
    "\n",
    "# View DataFrame\n",
    "stations.head()"
   ]
  },
  {
   "cell_type": "markdown",
   "metadata": {},
   "source": [
    "### Data Cleanup"
   ]
  },
  {
   "cell_type": "code",
   "execution_count": 5,
   "metadata": {
    "collapsed": false,
    "jupyter": {
     "outputs_hidden": false
    }
   },
   "outputs": [
    {
     "data": {
      "text/html": [
       "<div>\n",
       "<style scoped>\n",
       "    .dataframe tbody tr th:only-of-type {\n",
       "        vertical-align: middle;\n",
       "    }\n",
       "\n",
       "    .dataframe tbody tr th {\n",
       "        vertical-align: top;\n",
       "    }\n",
       "\n",
       "    .dataframe thead th {\n",
       "        text-align: right;\n",
       "    }\n",
       "</style>\n",
       "<table border=\"1\" class=\"dataframe\">\n",
       "  <thead>\n",
       "    <tr style=\"text-align: right;\">\n",
       "      <th></th>\n",
       "      <th>Longitude (x)</th>\n",
       "      <th>Latitude (y)</th>\n",
       "      <th>Station Name</th>\n",
       "      <th>Climate ID</th>\n",
       "      <th>Date/Time</th>\n",
       "      <th>Year</th>\n",
       "      <th>Month</th>\n",
       "      <th>Day</th>\n",
       "      <th>Time</th>\n",
       "      <th>Temp (°C)</th>\n",
       "      <th>...</th>\n",
       "      <th>Stn Press Flag</th>\n",
       "      <th>Hmdx</th>\n",
       "      <th>Hmdx Flag</th>\n",
       "      <th>Wind Chill</th>\n",
       "      <th>Wind Chill Flag</th>\n",
       "      <th>Weather</th>\n",
       "      <th>Date/Time (LST)</th>\n",
       "      <th>Time (LST)</th>\n",
       "      <th>Precip. Amount (mm)</th>\n",
       "      <th>Precip. Amount Flag</th>\n",
       "    </tr>\n",
       "  </thead>\n",
       "  <tbody>\n",
       "    <tr>\n",
       "      <th>0</th>\n",
       "      <td>-79.4</td>\n",
       "      <td>43.63</td>\n",
       "      <td>TORONTO CITY CENTRE</td>\n",
       "      <td>6158359</td>\n",
       "      <td>2017-01-01 00:00</td>\n",
       "      <td>2017</td>\n",
       "      <td>1</td>\n",
       "      <td>1</td>\n",
       "      <td>00:00</td>\n",
       "      <td>1.5</td>\n",
       "      <td>...</td>\n",
       "      <td>NaN</td>\n",
       "      <td>NaN</td>\n",
       "      <td>NaN</td>\n",
       "      <td>NaN</td>\n",
       "      <td>NaN</td>\n",
       "      <td>NaN</td>\n",
       "      <td>NaN</td>\n",
       "      <td>NaN</td>\n",
       "      <td>NaN</td>\n",
       "      <td>NaN</td>\n",
       "    </tr>\n",
       "    <tr>\n",
       "      <th>1</th>\n",
       "      <td>-79.4</td>\n",
       "      <td>43.63</td>\n",
       "      <td>TORONTO CITY CENTRE</td>\n",
       "      <td>6158359</td>\n",
       "      <td>2017-01-01 01:00</td>\n",
       "      <td>2017</td>\n",
       "      <td>1</td>\n",
       "      <td>1</td>\n",
       "      <td>01:00</td>\n",
       "      <td>1.5</td>\n",
       "      <td>...</td>\n",
       "      <td>NaN</td>\n",
       "      <td>NaN</td>\n",
       "      <td>NaN</td>\n",
       "      <td>NaN</td>\n",
       "      <td>NaN</td>\n",
       "      <td>NaN</td>\n",
       "      <td>NaN</td>\n",
       "      <td>NaN</td>\n",
       "      <td>NaN</td>\n",
       "      <td>NaN</td>\n",
       "    </tr>\n",
       "    <tr>\n",
       "      <th>2</th>\n",
       "      <td>-79.4</td>\n",
       "      <td>43.63</td>\n",
       "      <td>TORONTO CITY CENTRE</td>\n",
       "      <td>6158359</td>\n",
       "      <td>2017-01-01 02:00</td>\n",
       "      <td>2017</td>\n",
       "      <td>1</td>\n",
       "      <td>1</td>\n",
       "      <td>02:00</td>\n",
       "      <td>1.0</td>\n",
       "      <td>...</td>\n",
       "      <td>NaN</td>\n",
       "      <td>NaN</td>\n",
       "      <td>NaN</td>\n",
       "      <td>NaN</td>\n",
       "      <td>NaN</td>\n",
       "      <td>NaN</td>\n",
       "      <td>NaN</td>\n",
       "      <td>NaN</td>\n",
       "      <td>NaN</td>\n",
       "      <td>NaN</td>\n",
       "    </tr>\n",
       "    <tr>\n",
       "      <th>3</th>\n",
       "      <td>-79.4</td>\n",
       "      <td>43.63</td>\n",
       "      <td>TORONTO CITY CENTRE</td>\n",
       "      <td>6158359</td>\n",
       "      <td>2017-01-01 03:00</td>\n",
       "      <td>2017</td>\n",
       "      <td>1</td>\n",
       "      <td>1</td>\n",
       "      <td>03:00</td>\n",
       "      <td>1.2</td>\n",
       "      <td>...</td>\n",
       "      <td>NaN</td>\n",
       "      <td>NaN</td>\n",
       "      <td>NaN</td>\n",
       "      <td>NaN</td>\n",
       "      <td>NaN</td>\n",
       "      <td>NaN</td>\n",
       "      <td>NaN</td>\n",
       "      <td>NaN</td>\n",
       "      <td>NaN</td>\n",
       "      <td>NaN</td>\n",
       "    </tr>\n",
       "    <tr>\n",
       "      <th>4</th>\n",
       "      <td>-79.4</td>\n",
       "      <td>43.63</td>\n",
       "      <td>TORONTO CITY CENTRE</td>\n",
       "      <td>6158359</td>\n",
       "      <td>2017-01-01 04:00</td>\n",
       "      <td>2017</td>\n",
       "      <td>1</td>\n",
       "      <td>1</td>\n",
       "      <td>04:00</td>\n",
       "      <td>1.3</td>\n",
       "      <td>...</td>\n",
       "      <td>NaN</td>\n",
       "      <td>NaN</td>\n",
       "      <td>NaN</td>\n",
       "      <td>NaN</td>\n",
       "      <td>NaN</td>\n",
       "      <td>NaN</td>\n",
       "      <td>NaN</td>\n",
       "      <td>NaN</td>\n",
       "      <td>NaN</td>\n",
       "      <td>NaN</td>\n",
       "    </tr>\n",
       "  </tbody>\n",
       "</table>\n",
       "<p>5 rows × 32 columns</p>\n",
       "</div>"
      ],
      "text/plain": [
       "   Longitude (x)  Latitude (y)         Station Name  Climate ID  \\\n",
       "0          -79.4         43.63  TORONTO CITY CENTRE     6158359   \n",
       "1          -79.4         43.63  TORONTO CITY CENTRE     6158359   \n",
       "2          -79.4         43.63  TORONTO CITY CENTRE     6158359   \n",
       "3          -79.4         43.63  TORONTO CITY CENTRE     6158359   \n",
       "4          -79.4         43.63  TORONTO CITY CENTRE     6158359   \n",
       "\n",
       "          Date/Time  Year  Month  Day   Time  Temp (°C)  ... Stn Press Flag  \\\n",
       "0  2017-01-01 00:00  2017      1    1  00:00        1.5  ...            NaN   \n",
       "1  2017-01-01 01:00  2017      1    1  01:00        1.5  ...            NaN   \n",
       "2  2017-01-01 02:00  2017      1    1  02:00        1.0  ...            NaN   \n",
       "3  2017-01-01 03:00  2017      1    1  03:00        1.2  ...            NaN   \n",
       "4  2017-01-01 04:00  2017      1    1  04:00        1.3  ...            NaN   \n",
       "\n",
       "   Hmdx Hmdx Flag  Wind Chill Wind Chill Flag  Weather Date/Time (LST)  \\\n",
       "0   NaN       NaN         NaN             NaN      NaN             NaN   \n",
       "1   NaN       NaN         NaN             NaN      NaN             NaN   \n",
       "2   NaN       NaN         NaN             NaN      NaN             NaN   \n",
       "3   NaN       NaN         NaN             NaN      NaN             NaN   \n",
       "4   NaN       NaN         NaN             NaN      NaN             NaN   \n",
       "\n",
       "   Time (LST) Precip. Amount (mm)  Precip. Amount Flag  \n",
       "0         NaN                 NaN                  NaN  \n",
       "1         NaN                 NaN                  NaN  \n",
       "2         NaN                 NaN                  NaN  \n",
       "3         NaN                 NaN                  NaN  \n",
       "4         NaN                 NaN                  NaN  \n",
       "\n",
       "[5 rows x 32 columns]"
      ]
     },
     "execution_count": 5,
     "metadata": {},
     "output_type": "execute_result"
    }
   ],
   "source": [
    "# Create DataFrame containing monthly weather data from all files.\n",
    "path_weather = os.path.join(os.path.abspath(os.getcwd()), 'data', 'weather')\n",
    "weather_filenames = [filename for filename in os.listdir(os.path.join(path_weather))]\n",
    "weather_filenames = weather_filenames[0:-1]\n",
    "weather_data = []\n",
    "\n",
    "for i in weather_filenames:\n",
    "    x = pd.read_csv(os.path.join(path_weather, i))\n",
    "    weather_data.append(x)\n",
    "\n",
    "weather_data = pd.concat(weather_data, axis =0)\n",
    "# View DataFrame\n",
    "weather_data.head()"
   ]
  },
  {
   "cell_type": "code",
   "execution_count": 6,
   "metadata": {
    "collapsed": false,
    "jupyter": {
     "outputs_hidden": false
    }
   },
   "outputs": [
    {
     "data": {
      "text/html": [
       "<div>\n",
       "<style scoped>\n",
       "    .dataframe tbody tr th:only-of-type {\n",
       "        vertical-align: middle;\n",
       "    }\n",
       "\n",
       "    .dataframe tbody tr th {\n",
       "        vertical-align: top;\n",
       "    }\n",
       "\n",
       "    .dataframe thead th {\n",
       "        text-align: right;\n",
       "    }\n",
       "</style>\n",
       "<table border=\"1\" class=\"dataframe\">\n",
       "  <thead>\n",
       "    <tr style=\"text-align: right;\">\n",
       "      <th></th>\n",
       "      <th>Longitude (x)</th>\n",
       "      <th>Latitude (y)</th>\n",
       "      <th>Station Name</th>\n",
       "      <th>Climate ID</th>\n",
       "      <th>Year</th>\n",
       "      <th>Month</th>\n",
       "      <th>Day</th>\n",
       "      <th>Time</th>\n",
       "      <th>Temp (°C)</th>\n",
       "      <th>Temp Flag</th>\n",
       "      <th>...</th>\n",
       "      <th>Stn Press Flag</th>\n",
       "      <th>Hmdx</th>\n",
       "      <th>Hmdx Flag</th>\n",
       "      <th>Wind Chill</th>\n",
       "      <th>Wind Chill Flag</th>\n",
       "      <th>Weather</th>\n",
       "      <th>Date/Time (LST)</th>\n",
       "      <th>Time (LST)</th>\n",
       "      <th>Precip. Amount (mm)</th>\n",
       "      <th>Precip. Amount Flag</th>\n",
       "    </tr>\n",
       "    <tr>\n",
       "      <th>Date/Time</th>\n",
       "      <th></th>\n",
       "      <th></th>\n",
       "      <th></th>\n",
       "      <th></th>\n",
       "      <th></th>\n",
       "      <th></th>\n",
       "      <th></th>\n",
       "      <th></th>\n",
       "      <th></th>\n",
       "      <th></th>\n",
       "      <th></th>\n",
       "      <th></th>\n",
       "      <th></th>\n",
       "      <th></th>\n",
       "      <th></th>\n",
       "      <th></th>\n",
       "      <th></th>\n",
       "      <th></th>\n",
       "      <th></th>\n",
       "      <th></th>\n",
       "      <th></th>\n",
       "    </tr>\n",
       "  </thead>\n",
       "  <tbody>\n",
       "    <tr>\n",
       "      <th>2017-01-01 00:00:00</th>\n",
       "      <td>-79.4</td>\n",
       "      <td>43.63</td>\n",
       "      <td>TORONTO CITY CENTRE</td>\n",
       "      <td>6158359</td>\n",
       "      <td>2017</td>\n",
       "      <td>1</td>\n",
       "      <td>1</td>\n",
       "      <td>00:00</td>\n",
       "      <td>1.5</td>\n",
       "      <td>NaN</td>\n",
       "      <td>...</td>\n",
       "      <td>NaN</td>\n",
       "      <td>NaN</td>\n",
       "      <td>NaN</td>\n",
       "      <td>NaN</td>\n",
       "      <td>NaN</td>\n",
       "      <td>NaN</td>\n",
       "      <td>NaN</td>\n",
       "      <td>NaN</td>\n",
       "      <td>NaN</td>\n",
       "      <td>NaN</td>\n",
       "    </tr>\n",
       "    <tr>\n",
       "      <th>2017-01-01 01:00:00</th>\n",
       "      <td>-79.4</td>\n",
       "      <td>43.63</td>\n",
       "      <td>TORONTO CITY CENTRE</td>\n",
       "      <td>6158359</td>\n",
       "      <td>2017</td>\n",
       "      <td>1</td>\n",
       "      <td>1</td>\n",
       "      <td>01:00</td>\n",
       "      <td>1.5</td>\n",
       "      <td>NaN</td>\n",
       "      <td>...</td>\n",
       "      <td>NaN</td>\n",
       "      <td>NaN</td>\n",
       "      <td>NaN</td>\n",
       "      <td>NaN</td>\n",
       "      <td>NaN</td>\n",
       "      <td>NaN</td>\n",
       "      <td>NaN</td>\n",
       "      <td>NaN</td>\n",
       "      <td>NaN</td>\n",
       "      <td>NaN</td>\n",
       "    </tr>\n",
       "    <tr>\n",
       "      <th>2017-01-01 02:00:00</th>\n",
       "      <td>-79.4</td>\n",
       "      <td>43.63</td>\n",
       "      <td>TORONTO CITY CENTRE</td>\n",
       "      <td>6158359</td>\n",
       "      <td>2017</td>\n",
       "      <td>1</td>\n",
       "      <td>1</td>\n",
       "      <td>02:00</td>\n",
       "      <td>1.0</td>\n",
       "      <td>NaN</td>\n",
       "      <td>...</td>\n",
       "      <td>NaN</td>\n",
       "      <td>NaN</td>\n",
       "      <td>NaN</td>\n",
       "      <td>NaN</td>\n",
       "      <td>NaN</td>\n",
       "      <td>NaN</td>\n",
       "      <td>NaN</td>\n",
       "      <td>NaN</td>\n",
       "      <td>NaN</td>\n",
       "      <td>NaN</td>\n",
       "    </tr>\n",
       "    <tr>\n",
       "      <th>2017-01-01 03:00:00</th>\n",
       "      <td>-79.4</td>\n",
       "      <td>43.63</td>\n",
       "      <td>TORONTO CITY CENTRE</td>\n",
       "      <td>6158359</td>\n",
       "      <td>2017</td>\n",
       "      <td>1</td>\n",
       "      <td>1</td>\n",
       "      <td>03:00</td>\n",
       "      <td>1.2</td>\n",
       "      <td>NaN</td>\n",
       "      <td>...</td>\n",
       "      <td>NaN</td>\n",
       "      <td>NaN</td>\n",
       "      <td>NaN</td>\n",
       "      <td>NaN</td>\n",
       "      <td>NaN</td>\n",
       "      <td>NaN</td>\n",
       "      <td>NaN</td>\n",
       "      <td>NaN</td>\n",
       "      <td>NaN</td>\n",
       "      <td>NaN</td>\n",
       "    </tr>\n",
       "    <tr>\n",
       "      <th>2017-01-01 04:00:00</th>\n",
       "      <td>-79.4</td>\n",
       "      <td>43.63</td>\n",
       "      <td>TORONTO CITY CENTRE</td>\n",
       "      <td>6158359</td>\n",
       "      <td>2017</td>\n",
       "      <td>1</td>\n",
       "      <td>1</td>\n",
       "      <td>04:00</td>\n",
       "      <td>1.3</td>\n",
       "      <td>NaN</td>\n",
       "      <td>...</td>\n",
       "      <td>NaN</td>\n",
       "      <td>NaN</td>\n",
       "      <td>NaN</td>\n",
       "      <td>NaN</td>\n",
       "      <td>NaN</td>\n",
       "      <td>NaN</td>\n",
       "      <td>NaN</td>\n",
       "      <td>NaN</td>\n",
       "      <td>NaN</td>\n",
       "      <td>NaN</td>\n",
       "    </tr>\n",
       "  </tbody>\n",
       "</table>\n",
       "<p>5 rows × 31 columns</p>\n",
       "</div>"
      ],
      "text/plain": [
       "                     Longitude (x)  Latitude (y)         Station Name  \\\n",
       "Date/Time                                                               \n",
       "2017-01-01 00:00:00          -79.4         43.63  TORONTO CITY CENTRE   \n",
       "2017-01-01 01:00:00          -79.4         43.63  TORONTO CITY CENTRE   \n",
       "2017-01-01 02:00:00          -79.4         43.63  TORONTO CITY CENTRE   \n",
       "2017-01-01 03:00:00          -79.4         43.63  TORONTO CITY CENTRE   \n",
       "2017-01-01 04:00:00          -79.4         43.63  TORONTO CITY CENTRE   \n",
       "\n",
       "                     Climate ID  Year  Month  Day   Time  Temp (°C) Temp Flag  \\\n",
       "Date/Time                                                                       \n",
       "2017-01-01 00:00:00     6158359  2017      1    1  00:00        1.5       NaN   \n",
       "2017-01-01 01:00:00     6158359  2017      1    1  01:00        1.5       NaN   \n",
       "2017-01-01 02:00:00     6158359  2017      1    1  02:00        1.0       NaN   \n",
       "2017-01-01 03:00:00     6158359  2017      1    1  03:00        1.2       NaN   \n",
       "2017-01-01 04:00:00     6158359  2017      1    1  04:00        1.3       NaN   \n",
       "\n",
       "                     ...  Stn Press Flag Hmdx  Hmdx Flag Wind Chill  \\\n",
       "Date/Time            ...                                              \n",
       "2017-01-01 00:00:00  ...             NaN  NaN        NaN        NaN   \n",
       "2017-01-01 01:00:00  ...             NaN  NaN        NaN        NaN   \n",
       "2017-01-01 02:00:00  ...             NaN  NaN        NaN        NaN   \n",
       "2017-01-01 03:00:00  ...             NaN  NaN        NaN        NaN   \n",
       "2017-01-01 04:00:00  ...             NaN  NaN        NaN        NaN   \n",
       "\n",
       "                     Wind Chill Flag Weather  Date/Time (LST) Time (LST)  \\\n",
       "Date/Time                                                                  \n",
       "2017-01-01 00:00:00              NaN     NaN              NaN        NaN   \n",
       "2017-01-01 01:00:00              NaN     NaN              NaN        NaN   \n",
       "2017-01-01 02:00:00              NaN     NaN              NaN        NaN   \n",
       "2017-01-01 03:00:00              NaN     NaN              NaN        NaN   \n",
       "2017-01-01 04:00:00              NaN     NaN              NaN        NaN   \n",
       "\n",
       "                     Precip. Amount (mm) Precip. Amount Flag  \n",
       "Date/Time                                                     \n",
       "2017-01-01 00:00:00                  NaN                 NaN  \n",
       "2017-01-01 01:00:00                  NaN                 NaN  \n",
       "2017-01-01 02:00:00                  NaN                 NaN  \n",
       "2017-01-01 03:00:00                  NaN                 NaN  \n",
       "2017-01-01 04:00:00                  NaN                 NaN  \n",
       "\n",
       "[5 rows x 31 columns]"
      ]
     },
     "execution_count": 6,
     "metadata": {},
     "output_type": "execute_result"
    }
   ],
   "source": [
    "#Set date time as the index to weather data\n",
    "weather_data = weather_data.set_index('Date/Time')\n",
    "weather_data.index = pd.DatetimeIndex(weather_data.index)\n",
    "# View DataFrame\n",
    "weather_data.head()"
   ]
  },
  {
   "cell_type": "code",
   "execution_count": 7,
   "metadata": {
    "collapsed": false,
    "jupyter": {
     "outputs_hidden": false
    }
   },
   "outputs": [
    {
     "data": {
      "text/html": [
       "<div>\n",
       "<style scoped>\n",
       "    .dataframe tbody tr th:only-of-type {\n",
       "        vertical-align: middle;\n",
       "    }\n",
       "\n",
       "    .dataframe tbody tr th {\n",
       "        vertical-align: top;\n",
       "    }\n",
       "\n",
       "    .dataframe thead th {\n",
       "        text-align: right;\n",
       "    }\n",
       "</style>\n",
       "<table border=\"1\" class=\"dataframe\">\n",
       "  <thead>\n",
       "    <tr style=\"text-align: right;\">\n",
       "      <th></th>\n",
       "      <th>Longitude (x)</th>\n",
       "      <th>Latitude (y)</th>\n",
       "      <th>Station Name</th>\n",
       "      <th>Climate ID</th>\n",
       "      <th>Year</th>\n",
       "      <th>Month</th>\n",
       "      <th>Day</th>\n",
       "      <th>Time</th>\n",
       "      <th>Temp (°C)</th>\n",
       "      <th>Temp Flag</th>\n",
       "      <th>...</th>\n",
       "      <th>Stn Press Flag</th>\n",
       "      <th>Hmdx</th>\n",
       "      <th>Hmdx Flag</th>\n",
       "      <th>Wind Chill</th>\n",
       "      <th>Wind Chill Flag</th>\n",
       "      <th>Weather</th>\n",
       "      <th>Date/Time (LST)</th>\n",
       "      <th>Time (LST)</th>\n",
       "      <th>Precip. Amount (mm)</th>\n",
       "      <th>Precip. Amount Flag</th>\n",
       "    </tr>\n",
       "    <tr>\n",
       "      <th>Date/Time</th>\n",
       "      <th></th>\n",
       "      <th></th>\n",
       "      <th></th>\n",
       "      <th></th>\n",
       "      <th></th>\n",
       "      <th></th>\n",
       "      <th></th>\n",
       "      <th></th>\n",
       "      <th></th>\n",
       "      <th></th>\n",
       "      <th></th>\n",
       "      <th></th>\n",
       "      <th></th>\n",
       "      <th></th>\n",
       "      <th></th>\n",
       "      <th></th>\n",
       "      <th></th>\n",
       "      <th></th>\n",
       "      <th></th>\n",
       "      <th></th>\n",
       "      <th></th>\n",
       "    </tr>\n",
       "  </thead>\n",
       "  <tbody>\n",
       "    <tr>\n",
       "      <th>2017-01-01 00:00:00-05:00</th>\n",
       "      <td>-79.4</td>\n",
       "      <td>43.63</td>\n",
       "      <td>TORONTO CITY CENTRE</td>\n",
       "      <td>6158359</td>\n",
       "      <td>2017</td>\n",
       "      <td>1</td>\n",
       "      <td>1</td>\n",
       "      <td>00:00</td>\n",
       "      <td>1.5</td>\n",
       "      <td>NaN</td>\n",
       "      <td>...</td>\n",
       "      <td>NaN</td>\n",
       "      <td>NaN</td>\n",
       "      <td>NaN</td>\n",
       "      <td>NaN</td>\n",
       "      <td>NaN</td>\n",
       "      <td>NaN</td>\n",
       "      <td>NaN</td>\n",
       "      <td>NaN</td>\n",
       "      <td>NaN</td>\n",
       "      <td>NaN</td>\n",
       "    </tr>\n",
       "    <tr>\n",
       "      <th>2017-01-01 01:00:00-05:00</th>\n",
       "      <td>-79.4</td>\n",
       "      <td>43.63</td>\n",
       "      <td>TORONTO CITY CENTRE</td>\n",
       "      <td>6158359</td>\n",
       "      <td>2017</td>\n",
       "      <td>1</td>\n",
       "      <td>1</td>\n",
       "      <td>01:00</td>\n",
       "      <td>1.5</td>\n",
       "      <td>NaN</td>\n",
       "      <td>...</td>\n",
       "      <td>NaN</td>\n",
       "      <td>NaN</td>\n",
       "      <td>NaN</td>\n",
       "      <td>NaN</td>\n",
       "      <td>NaN</td>\n",
       "      <td>NaN</td>\n",
       "      <td>NaN</td>\n",
       "      <td>NaN</td>\n",
       "      <td>NaN</td>\n",
       "      <td>NaN</td>\n",
       "    </tr>\n",
       "    <tr>\n",
       "      <th>2017-01-01 02:00:00-05:00</th>\n",
       "      <td>-79.4</td>\n",
       "      <td>43.63</td>\n",
       "      <td>TORONTO CITY CENTRE</td>\n",
       "      <td>6158359</td>\n",
       "      <td>2017</td>\n",
       "      <td>1</td>\n",
       "      <td>1</td>\n",
       "      <td>02:00</td>\n",
       "      <td>1.0</td>\n",
       "      <td>NaN</td>\n",
       "      <td>...</td>\n",
       "      <td>NaN</td>\n",
       "      <td>NaN</td>\n",
       "      <td>NaN</td>\n",
       "      <td>NaN</td>\n",
       "      <td>NaN</td>\n",
       "      <td>NaN</td>\n",
       "      <td>NaN</td>\n",
       "      <td>NaN</td>\n",
       "      <td>NaN</td>\n",
       "      <td>NaN</td>\n",
       "    </tr>\n",
       "    <tr>\n",
       "      <th>2017-01-01 03:00:00-05:00</th>\n",
       "      <td>-79.4</td>\n",
       "      <td>43.63</td>\n",
       "      <td>TORONTO CITY CENTRE</td>\n",
       "      <td>6158359</td>\n",
       "      <td>2017</td>\n",
       "      <td>1</td>\n",
       "      <td>1</td>\n",
       "      <td>03:00</td>\n",
       "      <td>1.2</td>\n",
       "      <td>NaN</td>\n",
       "      <td>...</td>\n",
       "      <td>NaN</td>\n",
       "      <td>NaN</td>\n",
       "      <td>NaN</td>\n",
       "      <td>NaN</td>\n",
       "      <td>NaN</td>\n",
       "      <td>NaN</td>\n",
       "      <td>NaN</td>\n",
       "      <td>NaN</td>\n",
       "      <td>NaN</td>\n",
       "      <td>NaN</td>\n",
       "    </tr>\n",
       "    <tr>\n",
       "      <th>2017-01-01 04:00:00-05:00</th>\n",
       "      <td>-79.4</td>\n",
       "      <td>43.63</td>\n",
       "      <td>TORONTO CITY CENTRE</td>\n",
       "      <td>6158359</td>\n",
       "      <td>2017</td>\n",
       "      <td>1</td>\n",
       "      <td>1</td>\n",
       "      <td>04:00</td>\n",
       "      <td>1.3</td>\n",
       "      <td>NaN</td>\n",
       "      <td>...</td>\n",
       "      <td>NaN</td>\n",
       "      <td>NaN</td>\n",
       "      <td>NaN</td>\n",
       "      <td>NaN</td>\n",
       "      <td>NaN</td>\n",
       "      <td>NaN</td>\n",
       "      <td>NaN</td>\n",
       "      <td>NaN</td>\n",
       "      <td>NaN</td>\n",
       "      <td>NaN</td>\n",
       "    </tr>\n",
       "  </tbody>\n",
       "</table>\n",
       "<p>5 rows × 31 columns</p>\n",
       "</div>"
      ],
      "text/plain": [
       "                           Longitude (x)  Latitude (y)         Station Name  \\\n",
       "Date/Time                                                                     \n",
       "2017-01-01 00:00:00-05:00          -79.4         43.63  TORONTO CITY CENTRE   \n",
       "2017-01-01 01:00:00-05:00          -79.4         43.63  TORONTO CITY CENTRE   \n",
       "2017-01-01 02:00:00-05:00          -79.4         43.63  TORONTO CITY CENTRE   \n",
       "2017-01-01 03:00:00-05:00          -79.4         43.63  TORONTO CITY CENTRE   \n",
       "2017-01-01 04:00:00-05:00          -79.4         43.63  TORONTO CITY CENTRE   \n",
       "\n",
       "                           Climate ID  Year  Month  Day   Time  Temp (°C)  \\\n",
       "Date/Time                                                                   \n",
       "2017-01-01 00:00:00-05:00     6158359  2017      1    1  00:00        1.5   \n",
       "2017-01-01 01:00:00-05:00     6158359  2017      1    1  01:00        1.5   \n",
       "2017-01-01 02:00:00-05:00     6158359  2017      1    1  02:00        1.0   \n",
       "2017-01-01 03:00:00-05:00     6158359  2017      1    1  03:00        1.2   \n",
       "2017-01-01 04:00:00-05:00     6158359  2017      1    1  04:00        1.3   \n",
       "\n",
       "                          Temp Flag  ...  Stn Press Flag Hmdx  Hmdx Flag  \\\n",
       "Date/Time                            ...                                   \n",
       "2017-01-01 00:00:00-05:00       NaN  ...             NaN  NaN        NaN   \n",
       "2017-01-01 01:00:00-05:00       NaN  ...             NaN  NaN        NaN   \n",
       "2017-01-01 02:00:00-05:00       NaN  ...             NaN  NaN        NaN   \n",
       "2017-01-01 03:00:00-05:00       NaN  ...             NaN  NaN        NaN   \n",
       "2017-01-01 04:00:00-05:00       NaN  ...             NaN  NaN        NaN   \n",
       "\n",
       "                          Wind Chill  Wind Chill Flag Weather  \\\n",
       "Date/Time                                                       \n",
       "2017-01-01 00:00:00-05:00        NaN              NaN     NaN   \n",
       "2017-01-01 01:00:00-05:00        NaN              NaN     NaN   \n",
       "2017-01-01 02:00:00-05:00        NaN              NaN     NaN   \n",
       "2017-01-01 03:00:00-05:00        NaN              NaN     NaN   \n",
       "2017-01-01 04:00:00-05:00        NaN              NaN     NaN   \n",
       "\n",
       "                           Date/Time (LST) Time (LST)  Precip. Amount (mm)  \\\n",
       "Date/Time                                                                    \n",
       "2017-01-01 00:00:00-05:00              NaN        NaN                  NaN   \n",
       "2017-01-01 01:00:00-05:00              NaN        NaN                  NaN   \n",
       "2017-01-01 02:00:00-05:00              NaN        NaN                  NaN   \n",
       "2017-01-01 03:00:00-05:00              NaN        NaN                  NaN   \n",
       "2017-01-01 04:00:00-05:00              NaN        NaN                  NaN   \n",
       "\n",
       "                          Precip. Amount Flag  \n",
       "Date/Time                                      \n",
       "2017-01-01 00:00:00-05:00                 NaN  \n",
       "2017-01-01 01:00:00-05:00                 NaN  \n",
       "2017-01-01 02:00:00-05:00                 NaN  \n",
       "2017-01-01 03:00:00-05:00                 NaN  \n",
       "2017-01-01 04:00:00-05:00                 NaN  \n",
       "\n",
       "[5 rows x 31 columns]"
      ]
     },
     "execution_count": 7,
     "metadata": {},
     "output_type": "execute_result"
    }
   ],
   "source": [
    "#localize the data to a canada eastern time zone\n",
    "import pytz\n",
    "time_zone = pytz.timezone('EST')\n",
    "EST_timezone = []\n",
    "for row in range(weather_data.shape[0]):\n",
    "     EST_timezone.append(time_zone.localize(weather_data.index[row]))\n",
    "weather_data['Date/Time'] = EST_timezone\n",
    "weather_data = weather_data.set_index('Date/Time', drop = True)\n",
    "# View DataFrame\n",
    "weather_data.head()"
   ]
  },
  {
   "cell_type": "code",
   "execution_count": 8,
   "metadata": {
    "collapsed": false,
    "jupyter": {
     "outputs_hidden": false
    }
   },
   "outputs": [
    {
     "data": {
      "text/html": [
       "<div>\n",
       "<style scoped>\n",
       "    .dataframe tbody tr th:only-of-type {\n",
       "        vertical-align: middle;\n",
       "    }\n",
       "\n",
       "    .dataframe tbody tr th {\n",
       "        vertical-align: top;\n",
       "    }\n",
       "\n",
       "    .dataframe thead th {\n",
       "        text-align: right;\n",
       "    }\n",
       "</style>\n",
       "<table border=\"1\" class=\"dataframe\">\n",
       "  <thead>\n",
       "    <tr style=\"text-align: right;\">\n",
       "      <th></th>\n",
       "      <th>Weather</th>\n",
       "      <th>Temp (°C)</th>\n",
       "    </tr>\n",
       "    <tr>\n",
       "      <th>Date/Time</th>\n",
       "      <th></th>\n",
       "      <th></th>\n",
       "    </tr>\n",
       "  </thead>\n",
       "  <tbody>\n",
       "    <tr>\n",
       "      <th>2017-01-01 00:00:00-05:00</th>\n",
       "      <td>NaN</td>\n",
       "      <td>1.5</td>\n",
       "    </tr>\n",
       "    <tr>\n",
       "      <th>2017-01-01 01:00:00-05:00</th>\n",
       "      <td>NaN</td>\n",
       "      <td>1.5</td>\n",
       "    </tr>\n",
       "    <tr>\n",
       "      <th>2017-01-01 02:00:00-05:00</th>\n",
       "      <td>NaN</td>\n",
       "      <td>1.0</td>\n",
       "    </tr>\n",
       "    <tr>\n",
       "      <th>2017-01-01 03:00:00-05:00</th>\n",
       "      <td>NaN</td>\n",
       "      <td>1.2</td>\n",
       "    </tr>\n",
       "    <tr>\n",
       "      <th>2017-01-01 04:00:00-05:00</th>\n",
       "      <td>NaN</td>\n",
       "      <td>1.3</td>\n",
       "    </tr>\n",
       "    <tr>\n",
       "      <th>...</th>\n",
       "      <td>...</td>\n",
       "      <td>...</td>\n",
       "    </tr>\n",
       "    <tr>\n",
       "      <th>NaT</th>\n",
       "      <td>Fog</td>\n",
       "      <td>4.3</td>\n",
       "    </tr>\n",
       "    <tr>\n",
       "      <th>NaT</th>\n",
       "      <td>Fog</td>\n",
       "      <td>4.4</td>\n",
       "    </tr>\n",
       "    <tr>\n",
       "      <th>NaT</th>\n",
       "      <td>Fog</td>\n",
       "      <td>4.0</td>\n",
       "    </tr>\n",
       "    <tr>\n",
       "      <th>NaT</th>\n",
       "      <td>Fog</td>\n",
       "      <td>4.1</td>\n",
       "    </tr>\n",
       "    <tr>\n",
       "      <th>NaT</th>\n",
       "      <td>Fog</td>\n",
       "      <td>4.0</td>\n",
       "    </tr>\n",
       "  </tbody>\n",
       "</table>\n",
       "<p>49656 rows × 2 columns</p>\n",
       "</div>"
      ],
      "text/plain": [
       "                          Weather  Temp (°C)\n",
       "Date/Time                                   \n",
       "2017-01-01 00:00:00-05:00     NaN        1.5\n",
       "2017-01-01 01:00:00-05:00     NaN        1.5\n",
       "2017-01-01 02:00:00-05:00     NaN        1.0\n",
       "2017-01-01 03:00:00-05:00     NaN        1.2\n",
       "2017-01-01 04:00:00-05:00     NaN        1.3\n",
       "...                           ...        ...\n",
       "NaT                           Fog        4.3\n",
       "NaT                           Fog        4.4\n",
       "NaT                           Fog        4.0\n",
       "NaT                           Fog        4.1\n",
       "NaT                           Fog        4.0\n",
       "\n",
       "[49656 rows x 2 columns]"
      ]
     },
     "execution_count": 8,
     "metadata": {},
     "output_type": "execute_result"
    }
   ],
   "source": [
    "#Drop all columns except index, temp and weather\n",
    "weather_data_clean = weather_data.loc[:,['Weather','Temp (°C)']]\n",
    "weather_data_clean"
   ]
  },
  {
   "cell_type": "code",
   "execution_count": null,
   "metadata": {
    "collapsed": false,
    "jupyter": {
     "outputs_hidden": false
    }
   },
   "outputs": [],
   "source": [
    "#Read all bike data\n",
    "path_ridership = os.path.join(os.path.abspath(os.getcwd()), 'data', 'ridership','release')\n",
    "trips_filenames = [filename for filename in os.listdir(os.path.join(path_ridership))]\n",
    "trips_filenames = trips_filenames[0:-1]\n",
    "trips_2017_data = []\n",
    "trips_2018_data = []\n",
    "trips_2019_data = []\n",
    "trips_2020_data = []\n",
    "trips_2021_data = []\n",
    "trips_2022_data = []\n",
    "\n",
    "for i in trips_filenames:\n",
    "    if '2017' in i:\n",
    "        trips_2017 = pd.read_csv(os.path.join(path_ridership, i))\n",
    "        trips_2017_data.append(trips_2017)\n",
    "    if '2018' in i:\n",
    "        trips_2018 = pd.read_csv(os.path.join(path_ridership, i))\n",
    "        trips_2018_data.append(trips_2018)\n",
    "    if '2019' in i:\n",
    "        trips_2019 = pd.read_csv(os.path.join(path_ridership, i))\n",
    "        trips_2019_data.append(trips_2019)\n",
    "    if '2020' in i:\n",
    "        trips_2020 = pd.read_csv(os.path.join(path_ridership, i))\n",
    "        trips_2020_data.append(trips_2020)\n",
    "    if '2021' in i:\n",
    "        trips_2021 = pd.read_csv(os.path.join(path_ridership, i))\n",
    "        trips_2021_data.append(trips_2021)\n",
    "    if '2022' in i:\n",
    "        trips_2022 = pd.read_csv(os.path.join(path_ridership, i))\n",
    "        trips_2022_data.append(trips_2022)\n",
    "\n",
    "# View Data\n",
    "trips_2022_data\n"
   ]
  },
  {
   "cell_type": "code",
   "execution_count": 10,
   "metadata": {
    "collapsed": false,
    "jupyter": {
     "outputs_hidden": false
    }
   },
   "outputs": [],
   "source": [
    "#Create a dataframe from trips data\n",
    "trips_2017_df = pd.concat(trips_2017_data, axis =0)\n",
    "trips_2018_df = pd.concat(trips_2018_data, axis =0)\n",
    "trips_2019_df = pd.concat(trips_2019_data, axis =0)\n",
    "trips_2020_df = pd.concat(trips_2020_data, axis =0)\n",
    "trips_2021_df = pd.concat(trips_2021_data, axis =0)\n",
    "trips_2022_df = pd.concat(trips_2022_data, axis =0)"
   ]
  },
  {
   "cell_type": "code",
   "execution_count": 11,
   "metadata": {
    "collapsed": false,
    "jupyter": {
     "outputs_hidden": false
    }
   },
   "outputs": [
    {
     "data": {
      "text/html": [
       "<div>\n",
       "<style scoped>\n",
       "    .dataframe tbody tr th:only-of-type {\n",
       "        vertical-align: middle;\n",
       "    }\n",
       "\n",
       "    .dataframe tbody tr th {\n",
       "        vertical-align: top;\n",
       "    }\n",
       "\n",
       "    .dataframe thead th {\n",
       "        text-align: right;\n",
       "    }\n",
       "</style>\n",
       "<table border=\"1\" class=\"dataframe\">\n",
       "  <thead>\n",
       "    <tr style=\"text-align: right;\">\n",
       "      <th></th>\n",
       "      <th>trip_id</th>\n",
       "      <th>trip_duration_seconds</th>\n",
       "      <th>from_station_id</th>\n",
       "      <th>trip_start_time</th>\n",
       "      <th>from_station_name</th>\n",
       "      <th>trip_stop_time</th>\n",
       "      <th>to_station_id</th>\n",
       "      <th>to_station_name</th>\n",
       "      <th>user_type</th>\n",
       "    </tr>\n",
       "  </thead>\n",
       "  <tbody>\n",
       "    <tr>\n",
       "      <th>0</th>\n",
       "      <td>2383648</td>\n",
       "      <td>393</td>\n",
       "      <td>7018</td>\n",
       "      <td>2018-01-01 05:47 (UTC)</td>\n",
       "      <td>Bremner Blvd / Rees St</td>\n",
       "      <td>2018-01-01 05:54 (UTC)</td>\n",
       "      <td>7176</td>\n",
       "      <td>Bathurst St / Fort York Blvd</td>\n",
       "      <td>Annual Member</td>\n",
       "    </tr>\n",
       "    <tr>\n",
       "      <th>1</th>\n",
       "      <td>2383649</td>\n",
       "      <td>625</td>\n",
       "      <td>7184</td>\n",
       "      <td>2018-01-01 05:52 (UTC)</td>\n",
       "      <td>Ossington Ave / College St</td>\n",
       "      <td>2018-01-01 06:03 (UTC)</td>\n",
       "      <td>7191</td>\n",
       "      <td>Central Tech  (Harbord St)</td>\n",
       "      <td>Annual Member</td>\n",
       "    </tr>\n",
       "    <tr>\n",
       "      <th>2</th>\n",
       "      <td>2383650</td>\n",
       "      <td>233</td>\n",
       "      <td>7235</td>\n",
       "      <td>2018-01-01 05:55 (UTC)</td>\n",
       "      <td>Bay St / College St (West Side) - SMART</td>\n",
       "      <td>2018-01-01 05:59 (UTC)</td>\n",
       "      <td>7021</td>\n",
       "      <td>Bay St / Albert St</td>\n",
       "      <td>Annual Member</td>\n",
       "    </tr>\n",
       "    <tr>\n",
       "      <th>3</th>\n",
       "      <td>2383651</td>\n",
       "      <td>1138</td>\n",
       "      <td>7202</td>\n",
       "      <td>2018-01-01 05:57 (UTC)</td>\n",
       "      <td>Queen St W / York St (City Hall)</td>\n",
       "      <td>2018-01-01 06:16 (UTC)</td>\n",
       "      <td>7020</td>\n",
       "      <td>Phoebe St / Spadina Ave</td>\n",
       "      <td>Annual Member</td>\n",
       "    </tr>\n",
       "    <tr>\n",
       "      <th>4</th>\n",
       "      <td>2383652</td>\n",
       "      <td>703</td>\n",
       "      <td>7004</td>\n",
       "      <td>2018-01-01 06:00 (UTC)</td>\n",
       "      <td>University Ave / Elm St</td>\n",
       "      <td>2018-01-01 06:12 (UTC)</td>\n",
       "      <td>7060</td>\n",
       "      <td>Princess St / Adelaide St E</td>\n",
       "      <td>Annual Member</td>\n",
       "    </tr>\n",
       "  </tbody>\n",
       "</table>\n",
       "</div>"
      ],
      "text/plain": [
       "   trip_id  trip_duration_seconds  from_station_id         trip_start_time  \\\n",
       "0  2383648                    393             7018  2018-01-01 05:47 (UTC)   \n",
       "1  2383649                    625             7184  2018-01-01 05:52 (UTC)   \n",
       "2  2383650                    233             7235  2018-01-01 05:55 (UTC)   \n",
       "3  2383651                   1138             7202  2018-01-01 05:57 (UTC)   \n",
       "4  2383652                    703             7004  2018-01-01 06:00 (UTC)   \n",
       "\n",
       "                         from_station_name          trip_stop_time  \\\n",
       "0                   Bremner Blvd / Rees St  2018-01-01 05:54 (UTC)   \n",
       "1               Ossington Ave / College St  2018-01-01 06:03 (UTC)   \n",
       "2  Bay St / College St (West Side) - SMART  2018-01-01 05:59 (UTC)   \n",
       "3         Queen St W / York St (City Hall)  2018-01-01 06:16 (UTC)   \n",
       "4                  University Ave / Elm St  2018-01-01 06:12 (UTC)   \n",
       "\n",
       "   to_station_id               to_station_name      user_type  \n",
       "0           7176  Bathurst St / Fort York Blvd  Annual Member  \n",
       "1           7191    Central Tech  (Harbord St)  Annual Member  \n",
       "2           7021            Bay St / Albert St  Annual Member  \n",
       "3           7020       Phoebe St / Spadina Ave  Annual Member  \n",
       "4           7060   Princess St / Adelaide St E  Annual Member  "
      ]
     },
     "execution_count": 11,
     "metadata": {},
     "output_type": "execute_result"
    }
   ],
   "source": [
    "# Remove double spaces from the column names\n",
    "trips_2017_df.columns = [' '.join(col.split()) for col in trips_2017_df.columns]\n",
    "trips_2019_df.columns = [' '.join(col.split()) for col in trips_2019_df.columns]\n",
    "trips_2020_df.columns = [' '.join(col.split()) for col in trips_2020_df.columns]\n",
    "trips_2021_df.columns = [' '.join(col.split()) for col in trips_2021_df.columns]\n",
    "trips_2022_df.columns = [' '.join(col.split()) for col in trips_2022_df.columns]\n",
    "trips_2018_df.columns = [' '.join(col.split()) for col in trips_2018_df.columns]\n",
    "# View DataFrame\n",
    "trips_2018_df.head()"
   ]
  },
  {
   "cell_type": "code",
   "execution_count": 12,
   "metadata": {
    "collapsed": false,
    "jupyter": {
     "outputs_hidden": false
    }
   },
   "outputs": [
    {
     "data": {
      "text/html": [
       "<div>\n",
       "<style scoped>\n",
       "    .dataframe tbody tr th:only-of-type {\n",
       "        vertical-align: middle;\n",
       "    }\n",
       "\n",
       "    .dataframe tbody tr th {\n",
       "        vertical-align: top;\n",
       "    }\n",
       "\n",
       "    .dataframe thead th {\n",
       "        text-align: right;\n",
       "    }\n",
       "</style>\n",
       "<table border=\"1\" class=\"dataframe\">\n",
       "  <thead>\n",
       "    <tr style=\"text-align: right;\">\n",
       "      <th></th>\n",
       "      <th>start time</th>\n",
       "      <th>stop time</th>\n",
       "      <th>trip_duration</th>\n",
       "      <th>start station</th>\n",
       "      <th>stop station</th>\n",
       "      <th>user type</th>\n",
       "    </tr>\n",
       "  </thead>\n",
       "  <tbody>\n",
       "    <tr>\n",
       "      <th>0</th>\n",
       "      <td>2017-01-01 05:03 (UTC)</td>\n",
       "      <td>2017-01-01 05:08 (UTC)</td>\n",
       "      <td>274</td>\n",
       "      <td>Bay St / College St (East Side)</td>\n",
       "      <td>Bay St / Albert St</td>\n",
       "      <td>Member</td>\n",
       "    </tr>\n",
       "    <tr>\n",
       "      <th>1</th>\n",
       "      <td>2017-01-01 05:03 (UTC)</td>\n",
       "      <td>2017-01-01 05:12 (UTC)</td>\n",
       "      <td>538</td>\n",
       "      <td>Niagara St / Richmond St W</td>\n",
       "      <td>King St W / Fraser Ave</td>\n",
       "      <td>Member</td>\n",
       "    </tr>\n",
       "    <tr>\n",
       "      <th>2</th>\n",
       "      <td>2017-01-01 05:05 (UTC)</td>\n",
       "      <td>2017-01-01 05:22 (UTC)</td>\n",
       "      <td>992</td>\n",
       "      <td>Front St / Yonge St (Hockey Hall of Fame)</td>\n",
       "      <td>Church St  / Wood St</td>\n",
       "      <td>Member</td>\n",
       "    </tr>\n",
       "    <tr>\n",
       "      <th>3</th>\n",
       "      <td>2017-01-01 05:09 (UTC)</td>\n",
       "      <td>2017-01-01 05:26 (UTC)</td>\n",
       "      <td>1005</td>\n",
       "      <td>East Liberty St / Pirandello St</td>\n",
       "      <td>Queen St W / York St (City Hall)</td>\n",
       "      <td>Member</td>\n",
       "    </tr>\n",
       "    <tr>\n",
       "      <th>4</th>\n",
       "      <td>2017-01-01 05:14 (UTC)</td>\n",
       "      <td>2017-01-01 05:25 (UTC)</td>\n",
       "      <td>645</td>\n",
       "      <td>Bathurst St / Queens Quay W</td>\n",
       "      <td>King St W / Spadina Ave</td>\n",
       "      <td>Member</td>\n",
       "    </tr>\n",
       "    <tr>\n",
       "      <th>...</th>\n",
       "      <td>...</td>\n",
       "      <td>...</td>\n",
       "      <td>...</td>\n",
       "      <td>...</td>\n",
       "      <td>...</td>\n",
       "      <td>...</td>\n",
       "    </tr>\n",
       "    <tr>\n",
       "      <th>226401</th>\n",
       "      <td>2017-10-01 04:59 (UTC)</td>\n",
       "      <td>2017-10-01 05:04 (UTC)</td>\n",
       "      <td>337</td>\n",
       "      <td>Jarvis St / Isabella St</td>\n",
       "      <td>Yonge St / Yorkville Ave</td>\n",
       "      <td>Member</td>\n",
       "    </tr>\n",
       "    <tr>\n",
       "      <th>226402</th>\n",
       "      <td>2017-10-01 04:59 (UTC)</td>\n",
       "      <td>2017-10-01 05:07 (UTC)</td>\n",
       "      <td>494</td>\n",
       "      <td>Dundonald St / Church St</td>\n",
       "      <td>Victoria St / Gould St (Ryerson University)</td>\n",
       "      <td>Member</td>\n",
       "    </tr>\n",
       "    <tr>\n",
       "      <th>226403</th>\n",
       "      <td>2017-10-01 04:59 (UTC)</td>\n",
       "      <td>2017-10-01 05:18 (UTC)</td>\n",
       "      <td>1114</td>\n",
       "      <td>Baldwin Ave / Spadina Ave - SMART</td>\n",
       "      <td>Hanna Ave / Liberty St</td>\n",
       "      <td>Member</td>\n",
       "    </tr>\n",
       "    <tr>\n",
       "      <th>226404</th>\n",
       "      <td>2017-10-01 04:59 (UTC)</td>\n",
       "      <td>2017-10-01 05:19 (UTC)</td>\n",
       "      <td>1192</td>\n",
       "      <td>Queens Quay W / Lower Simcoe St</td>\n",
       "      <td>Exhibition GO Station</td>\n",
       "      <td>Casual</td>\n",
       "    </tr>\n",
       "    <tr>\n",
       "      <th>226405</th>\n",
       "      <td>2017-10-01 04:59 (UTC)</td>\n",
       "      <td>2017-10-01 05:19 (UTC)</td>\n",
       "      <td>1190</td>\n",
       "      <td>Queens Quay W / Lower Simcoe St</td>\n",
       "      <td>Exhibition GO Station</td>\n",
       "      <td>Casual</td>\n",
       "    </tr>\n",
       "  </tbody>\n",
       "</table>\n",
       "<p>1492369 rows × 6 columns</p>\n",
       "</div>"
      ],
      "text/plain": [
       "                    start time               stop time  trip_duration  \\\n",
       "0       2017-01-01 05:03 (UTC)  2017-01-01 05:08 (UTC)            274   \n",
       "1       2017-01-01 05:03 (UTC)  2017-01-01 05:12 (UTC)            538   \n",
       "2       2017-01-01 05:05 (UTC)  2017-01-01 05:22 (UTC)            992   \n",
       "3       2017-01-01 05:09 (UTC)  2017-01-01 05:26 (UTC)           1005   \n",
       "4       2017-01-01 05:14 (UTC)  2017-01-01 05:25 (UTC)            645   \n",
       "...                        ...                     ...            ...   \n",
       "226401  2017-10-01 04:59 (UTC)  2017-10-01 05:04 (UTC)            337   \n",
       "226402  2017-10-01 04:59 (UTC)  2017-10-01 05:07 (UTC)            494   \n",
       "226403  2017-10-01 04:59 (UTC)  2017-10-01 05:18 (UTC)           1114   \n",
       "226404  2017-10-01 04:59 (UTC)  2017-10-01 05:19 (UTC)           1192   \n",
       "226405  2017-10-01 04:59 (UTC)  2017-10-01 05:19 (UTC)           1190   \n",
       "\n",
       "                                    start station  \\\n",
       "0                 Bay St / College St (East Side)   \n",
       "1                      Niagara St / Richmond St W   \n",
       "2       Front St / Yonge St (Hockey Hall of Fame)   \n",
       "3                 East Liberty St / Pirandello St   \n",
       "4                     Bathurst St / Queens Quay W   \n",
       "...                                           ...   \n",
       "226401                    Jarvis St / Isabella St   \n",
       "226402                   Dundonald St / Church St   \n",
       "226403          Baldwin Ave / Spadina Ave - SMART   \n",
       "226404            Queens Quay W / Lower Simcoe St   \n",
       "226405            Queens Quay W / Lower Simcoe St   \n",
       "\n",
       "                                       stop station user type  \n",
       "0                                Bay St / Albert St    Member  \n",
       "1                            King St W / Fraser Ave    Member  \n",
       "2                              Church St  / Wood St    Member  \n",
       "3                  Queen St W / York St (City Hall)    Member  \n",
       "4                           King St W / Spadina Ave    Member  \n",
       "...                                             ...       ...  \n",
       "226401                     Yonge St / Yorkville Ave    Member  \n",
       "226402  Victoria St / Gould St (Ryerson University)    Member  \n",
       "226403                       Hanna Ave / Liberty St    Member  \n",
       "226404                        Exhibition GO Station    Casual  \n",
       "226405                        Exhibition GO Station    Casual  \n",
       "\n",
       "[1492369 rows x 6 columns]"
      ]
     },
     "execution_count": 12,
     "metadata": {},
     "output_type": "execute_result"
    }
   ],
   "source": [
    "#Unify name of important columns, drop unnecessary columns\n",
    "trips_2017_df = trips_2017_df.drop(['trip_id','from_station_id','to_station_id'],axis=1)\n",
    "trips_2017_df.columns = ['start time', 'stop time', 'trip_duration','start station','stop station', 'user type']\n",
    "\n",
    "\n",
    "trips_2018_df = trips_2018_df.drop(['trip_id','from_station_id','to_station_id'],axis=1)\n",
    "trips_2018_df.columns = ['trip_duration','start time','start station', 'stop time','stop station', 'user type']\n",
    "trips_2018_df = trips_2018_df.reindex(columns=['start time', 'stop time', 'trip_duration','start station','stop station', 'user type'])\n",
    "\n",
    "trips_2019_df = trips_2019_df.drop(['Trip Id','Subscription Id','Start Station Id','End Station Id', 'Bike Id'],axis=1)\n",
    "trips_2019_df.columns = ['trip_duration','start time','start station', 'stop time','stop station', 'user type']\n",
    "trips_2019_df = trips_2019_df.reindex(columns=['start time', 'stop time', 'trip_duration','start station','stop station', 'user type'])\n",
    "\n",
    "trips_2020_df = trips_2020_df.drop(['Trip Id','Subscription Id','Start Station Id','End Station Id', 'Bike Id'],axis=1)\n",
    "trips_2020_df.columns = ['trip_duration','start time','start station', 'stop time','stop station', 'user type']\n",
    "trips_2020_df = trips_2020_df.reindex(columns=['start time', 'stop time', 'trip_duration','start station','stop station', 'user type'])\n",
    "\n",
    "trips_2021_df = trips_2021_df.drop(['Trip Id','ï»¿Trip Id','Start Station Id','End Station Id', 'Bike Id'],axis=1)\n",
    "trips_2021_df.columns = ['trip_duration','start time','start station', 'stop time','stop station', 'user type']\n",
    "trips_2021_df = trips_2021_df.reindex(columns=['start time', 'stop time', 'trip_duration','start station','stop station', 'user type'])\n",
    "\n",
    "trips_2022_df = trips_2022_df.drop(['Trip Id','Start Station Id','End Station Id', 'Bike Id'],axis=1)\n",
    "trips_2022_df.columns = ['trip_duration','start time','start station', 'stop time','stop station', 'user type']\n",
    "trips_2022_df = trips_2022_df.reindex(columns=['start time', 'stop time', 'trip_duration','start station','stop station', 'user type'])\n",
    "\n",
    "trips_2017_df"
   ]
  },
  {
   "cell_type": "code",
   "execution_count": 13,
   "metadata": {
    "collapsed": false,
    "jupyter": {
     "outputs_hidden": false
    }
   },
   "outputs": [],
   "source": [
    "#replace UTC and EST to blank and convert UTC timming to EST\n",
    "dt_trips_2018_df=trips_2018_df\n",
    "dt_trips_2018_df['start time'] = dt_trips_2018_df['start time'].str.replace('UTC','',regex = True)\n",
    "dt_trips_2018_df['stop time'] = dt_trips_2018_df['stop time'].str.replace('UTC','',regex = True)\n",
    "dt_trips_2018_df['start time'] = dt_trips_2018_df['start time'].str.replace('(','',regex = True)\n",
    "dt_trips_2018_df['stop time'] = dt_trips_2018_df['stop time'].str.replace('(','',regex = True)\n",
    "dt_trips_2018_df['start time'] = dt_trips_2018_df['start time'].str.replace(')','',regex = True)\n",
    "dt_trips_2018_df['stop time'] = dt_trips_2018_df['stop time'].str.replace(')','',regex = True)\n",
    "dt_trips_2018_df['start time']  = pd.DatetimeIndex(dt_trips_2018_df['start time'] )\n",
    "dt_trips_2018_df['stop time'] = pd.DatetimeIndex(dt_trips_2018_df['stop time'])\n",
    "dt_trips_2018_df['start time']  = dt_trips_2018_df['start time']-pd.Timedelta(5, unit = 'hr')\n",
    "dt_trips_2018_df['stop time'] = dt_trips_2018_df['stop time']-pd.Timedelta(5, unit = 'hr')\n"
   ]
  },
  {
   "cell_type": "code",
   "execution_count": 14,
   "metadata": {
    "collapsed": false,
    "jupyter": {
     "outputs_hidden": false
    }
   },
   "outputs": [],
   "source": [
    "dt_trips_2017_df=trips_2017_df\n",
    "dt_trips_2017_df['start time'] = dt_trips_2017_df['start time'].str.replace('UTC','',regex = True)\n",
    "dt_trips_2017_df['stop time'] = dt_trips_2017_df['stop time'].str.replace('UTC','',regex = True)\n",
    "dt_trips_2017_df['start time'] = dt_trips_2017_df['start time'].str.replace('(','',regex = True)\n",
    "dt_trips_2017_df['stop time'] = dt_trips_2017_df['stop time'].str.replace('(','',regex = True)\n",
    "dt_trips_2017_df['start time'] = dt_trips_2017_df['start time'].str.replace(')','',regex = True)\n",
    "dt_trips_2017_df['stop time'] = dt_trips_2017_df['stop time'].str.replace(')','',regex = True)\n",
    "dt_trips_2017_df['start time']  = pd.DatetimeIndex(dt_trips_2017_df['start time'] )\n",
    "dt_trips_2017_df['stop time'] = pd.DatetimeIndex(dt_trips_2017_df['stop time'])\n",
    "dt_trips_2017_df['start time']  = dt_trips_2017_df['start time']-pd.Timedelta(5, unit = 'hr')\n",
    "dt_trips_2017_df['stop time'] = dt_trips_2017_df['stop time']-pd.Timedelta(5, unit = 'hr')"
   ]
  },
  {
   "cell_type": "code",
   "execution_count": 15,
   "metadata": {
    "collapsed": false,
    "jupyter": {
     "outputs_hidden": false
    }
   },
   "outputs": [],
   "source": [
    "dt_trips_2019_df=trips_2019_df\n",
    "dt_trips_2019_df['start time'] = dt_trips_2019_df['start time'].str.replace('EST','',regex = True)\n",
    "dt_trips_2019_df['stop time'] = dt_trips_2019_df['stop time'].str.replace('EST','',regex = True)\n",
    "dt_trips_2019_df['start time'] = dt_trips_2019_df['start time'].str.replace('(','',regex = True)\n",
    "dt_trips_2019_df['stop time'] = dt_trips_2019_df['stop time'].str.replace('(','',regex = True)\n",
    "dt_trips_2019_df['start time'] = dt_trips_2019_df['start time'].str.replace(')','',regex = True)\n",
    "dt_trips_2019_df['stop time'] = dt_trips_2019_df['stop time'].str.replace(')','',regex = True)\n",
    "dt_trips_2019_df['start time']  = pd.DatetimeIndex(dt_trips_2019_df['start time'] )\n",
    "dt_trips_2019_df['stop time'] = pd.DatetimeIndex(dt_trips_2019_df['stop time'])\n"
   ]
  },
  {
   "cell_type": "code",
   "execution_count": 16,
   "metadata": {
    "collapsed": false,
    "jupyter": {
     "outputs_hidden": false
    }
   },
   "outputs": [],
   "source": [
    "dt_trips_2020_df=trips_2020_df\n",
    "dt_trips_2020_df['start time'] = dt_trips_2020_df['start time'].str.replace('EST','',regex = True)\n",
    "dt_trips_2020_df['stop time'] = dt_trips_2020_df['stop time'].str.replace('EST','',regex = True)\n",
    "dt_trips_2020_df['start time'] = dt_trips_2020_df['start time'].str.replace('(','',regex = True)\n",
    "dt_trips_2020_df['stop time'] = dt_trips_2020_df['stop time'].str.replace('(','',regex = True)\n",
    "dt_trips_2020_df['start time'] = dt_trips_2020_df['start time'].str.replace(')','',regex = True)\n",
    "dt_trips_2020_df['stop time'] = dt_trips_2020_df['stop time'].str.replace(')','',regex = True)\n",
    "dt_trips_2020_df['start time']  = pd.DatetimeIndex(dt_trips_2020_df['start time'] )\n",
    "dt_trips_2020_df['stop time'] = pd.DatetimeIndex(dt_trips_2020_df['stop time'])"
   ]
  },
  {
   "cell_type": "code",
   "execution_count": 17,
   "metadata": {
    "collapsed": false,
    "jupyter": {
     "outputs_hidden": false
    }
   },
   "outputs": [],
   "source": [
    "dt_trips_2021_df=trips_2021_df\n",
    "dt_trips_2021_df['start time'] = dt_trips_2021_df['start time'].str.replace('EST','',regex = True)\n",
    "dt_trips_2021_df['stop time'] = dt_trips_2021_df['stop time'].str.replace('EST','',regex = True)\n",
    "dt_trips_2021_df['start time'] = dt_trips_2021_df['start time'].str.replace('(','',regex = True)\n",
    "dt_trips_2021_df['stop time'] = dt_trips_2021_df['stop time'].str.replace('(','',regex = True)\n",
    "dt_trips_2021_df['start time'] = dt_trips_2021_df['start time'].str.replace(')','',regex = True)\n",
    "dt_trips_2021_df['stop time'] = dt_trips_2021_df['stop time'].str.replace(')','',regex = True)\n",
    "dt_trips_2021_df['start time']  = pd.DatetimeIndex(dt_trips_2021_df['start time'] )\n",
    "dt_trips_2021_df['stop time'] = pd.DatetimeIndex(dt_trips_2021_df['stop time'])"
   ]
  },
  {
   "cell_type": "code",
   "execution_count": 18,
   "metadata": {
    "collapsed": false,
    "jupyter": {
     "outputs_hidden": false
    }
   },
   "outputs": [],
   "source": [
    "dt_trips_2022_df=trips_2022_df\n",
    "dt_trips_2022_df['start time'] = dt_trips_2022_df['start time'].str.replace('EST','',regex = True)\n",
    "dt_trips_2022_df['stop time'] = dt_trips_2022_df['stop time'].str.replace('EST','',regex = True)\n",
    "dt_trips_2022_df['start time'] = dt_trips_2022_df['start time'].str.replace('(','',regex = True)\n",
    "dt_trips_2022_df['stop time'] = dt_trips_2022_df['stop time'].str.replace('(','',regex = True)\n",
    "dt_trips_2022_df['start time'] = dt_trips_2022_df['start time'].str.replace(')','',regex = True)\n",
    "dt_trips_2022_df['stop time'] = dt_trips_2022_df['stop time'].str.replace(')','',regex = True)\n",
    "dt_trips_2022_df['start time']  = pd.DatetimeIndex(dt_trips_2022_df['start time'] )\n",
    "dt_trips_2022_df['stop time'] = pd.DatetimeIndex(dt_trips_2022_df['stop time'])"
   ]
  },
  {
   "cell_type": "code",
   "execution_count": 19,
   "metadata": {
    "collapsed": false,
    "jupyter": {
     "outputs_hidden": false
    }
   },
   "outputs": [],
   "source": [
    "#create a single DataFrame\n",
    "trips_df = pd.concat([dt_trips_2017_df,dt_trips_2018_df,dt_trips_2019_df,dt_trips_2020_df,dt_trips_2021_df,dt_trips_2022_df],axis = 0)"
   ]
  },
  {
   "cell_type": "code",
   "execution_count": 20,
   "metadata": {
    "collapsed": false,
    "jupyter": {
     "outputs_hidden": false
    }
   },
   "outputs": [
    {
     "data": {
      "text/html": [
       "<div>\n",
       "<style scoped>\n",
       "    .dataframe tbody tr th:only-of-type {\n",
       "        vertical-align: middle;\n",
       "    }\n",
       "\n",
       "    .dataframe tbody tr th {\n",
       "        vertical-align: top;\n",
       "    }\n",
       "\n",
       "    .dataframe thead th {\n",
       "        text-align: right;\n",
       "    }\n",
       "</style>\n",
       "<table border=\"1\" class=\"dataframe\">\n",
       "  <thead>\n",
       "    <tr style=\"text-align: right;\">\n",
       "      <th></th>\n",
       "      <th>start time</th>\n",
       "      <th>stop time</th>\n",
       "      <th>trip_duration</th>\n",
       "      <th>start station</th>\n",
       "      <th>stop station</th>\n",
       "      <th>user type</th>\n",
       "    </tr>\n",
       "  </thead>\n",
       "  <tbody>\n",
       "    <tr>\n",
       "      <th>0</th>\n",
       "      <td>2017-01-01 00:03:00</td>\n",
       "      <td>2017-01-01 00:08:00</td>\n",
       "      <td>274</td>\n",
       "      <td>Bay St / College St (East Side)</td>\n",
       "      <td>Bay St / Albert St</td>\n",
       "      <td>Member</td>\n",
       "    </tr>\n",
       "    <tr>\n",
       "      <th>1</th>\n",
       "      <td>2017-01-01 00:03:00</td>\n",
       "      <td>2017-01-01 00:12:00</td>\n",
       "      <td>538</td>\n",
       "      <td>Niagara St / Richmond St W</td>\n",
       "      <td>King St W / Fraser Ave</td>\n",
       "      <td>Member</td>\n",
       "    </tr>\n",
       "    <tr>\n",
       "      <th>2</th>\n",
       "      <td>2017-01-01 00:05:00</td>\n",
       "      <td>2017-01-01 00:22:00</td>\n",
       "      <td>992</td>\n",
       "      <td>Front St / Yonge St (Hockey Hall of Fame)</td>\n",
       "      <td>Church St  / Wood St</td>\n",
       "      <td>Member</td>\n",
       "    </tr>\n",
       "    <tr>\n",
       "      <th>3</th>\n",
       "      <td>2017-01-01 00:09:00</td>\n",
       "      <td>2017-01-01 00:26:00</td>\n",
       "      <td>1005</td>\n",
       "      <td>East Liberty St / Pirandello St</td>\n",
       "      <td>Queen St W / York St (City Hall)</td>\n",
       "      <td>Member</td>\n",
       "    </tr>\n",
       "    <tr>\n",
       "      <th>4</th>\n",
       "      <td>2017-01-01 00:14:00</td>\n",
       "      <td>2017-01-01 00:25:00</td>\n",
       "      <td>645</td>\n",
       "      <td>Bathurst St / Queens Quay W</td>\n",
       "      <td>King St W / Spadina Ave</td>\n",
       "      <td>Member</td>\n",
       "    </tr>\n",
       "    <tr>\n",
       "      <th>...</th>\n",
       "      <td>...</td>\n",
       "      <td>...</td>\n",
       "      <td>...</td>\n",
       "      <td>...</td>\n",
       "      <td>...</td>\n",
       "      <td>...</td>\n",
       "    </tr>\n",
       "    <tr>\n",
       "      <th>705145</th>\n",
       "      <td>2022-08-31 23:58:00</td>\n",
       "      <td>2022-01-09 00:26:00</td>\n",
       "      <td>1670</td>\n",
       "      <td>Dundas St E / Regent Park Blvd</td>\n",
       "      <td>King St W / Brant St</td>\n",
       "      <td>Casual Member</td>\n",
       "    </tr>\n",
       "    <tr>\n",
       "      <th>705146</th>\n",
       "      <td>2022-08-31 23:58:00</td>\n",
       "      <td>2022-01-09 00:08:00</td>\n",
       "      <td>574</td>\n",
       "      <td>Tecumseth St / Queen St W - SMART</td>\n",
       "      <td>Queen St W / Spadina Ave</td>\n",
       "      <td>Annual Member</td>\n",
       "    </tr>\n",
       "    <tr>\n",
       "      <th>705147</th>\n",
       "      <td>2022-08-31 23:59:00</td>\n",
       "      <td>2022-01-09 00:08:00</td>\n",
       "      <td>533</td>\n",
       "      <td>Dundas St W / St. Patrick St</td>\n",
       "      <td>Bathurst St / Dundas St W</td>\n",
       "      <td>Casual Member</td>\n",
       "    </tr>\n",
       "    <tr>\n",
       "      <th>705148</th>\n",
       "      <td>2022-08-31 23:59:00</td>\n",
       "      <td>2022-01-09 00:09:00</td>\n",
       "      <td>615</td>\n",
       "      <td>Lisgar St / Dundas St SMART</td>\n",
       "      <td>Emerson Ave / Bloor St W</td>\n",
       "      <td>Casual Member</td>\n",
       "    </tr>\n",
       "    <tr>\n",
       "      <th>705149</th>\n",
       "      <td>2022-08-31 23:59:00</td>\n",
       "      <td>2022-01-09 00:29:00</td>\n",
       "      <td>1820</td>\n",
       "      <td>Palmerston Ave / Dundas St W</td>\n",
       "      <td>Wellington St W / Stafford St</td>\n",
       "      <td>Casual Member</td>\n",
       "    </tr>\n",
       "  </tbody>\n",
       "</table>\n",
       "<p>15358993 rows × 6 columns</p>\n",
       "</div>"
      ],
      "text/plain": [
       "                start time           stop time  trip_duration  \\\n",
       "0      2017-01-01 00:03:00 2017-01-01 00:08:00            274   \n",
       "1      2017-01-01 00:03:00 2017-01-01 00:12:00            538   \n",
       "2      2017-01-01 00:05:00 2017-01-01 00:22:00            992   \n",
       "3      2017-01-01 00:09:00 2017-01-01 00:26:00           1005   \n",
       "4      2017-01-01 00:14:00 2017-01-01 00:25:00            645   \n",
       "...                    ...                 ...            ...   \n",
       "705145 2022-08-31 23:58:00 2022-01-09 00:26:00           1670   \n",
       "705146 2022-08-31 23:58:00 2022-01-09 00:08:00            574   \n",
       "705147 2022-08-31 23:59:00 2022-01-09 00:08:00            533   \n",
       "705148 2022-08-31 23:59:00 2022-01-09 00:09:00            615   \n",
       "705149 2022-08-31 23:59:00 2022-01-09 00:29:00           1820   \n",
       "\n",
       "                                    start station  \\\n",
       "0                 Bay St / College St (East Side)   \n",
       "1                      Niagara St / Richmond St W   \n",
       "2       Front St / Yonge St (Hockey Hall of Fame)   \n",
       "3                 East Liberty St / Pirandello St   \n",
       "4                     Bathurst St / Queens Quay W   \n",
       "...                                           ...   \n",
       "705145             Dundas St E / Regent Park Blvd   \n",
       "705146          Tecumseth St / Queen St W - SMART   \n",
       "705147               Dundas St W / St. Patrick St   \n",
       "705148                Lisgar St / Dundas St SMART   \n",
       "705149               Palmerston Ave / Dundas St W   \n",
       "\n",
       "                            stop station      user type  \n",
       "0                     Bay St / Albert St         Member  \n",
       "1                 King St W / Fraser Ave         Member  \n",
       "2                   Church St  / Wood St         Member  \n",
       "3       Queen St W / York St (City Hall)         Member  \n",
       "4                King St W / Spadina Ave         Member  \n",
       "...                                  ...            ...  \n",
       "705145              King St W / Brant St  Casual Member  \n",
       "705146          Queen St W / Spadina Ave  Annual Member  \n",
       "705147         Bathurst St / Dundas St W  Casual Member  \n",
       "705148          Emerson Ave / Bloor St W  Casual Member  \n",
       "705149     Wellington St W / Stafford St  Casual Member  \n",
       "\n",
       "[15358993 rows x 6 columns]"
      ]
     },
     "execution_count": 20,
     "metadata": {},
     "output_type": "execute_result"
    }
   ],
   "source": [
    "trips_df"
   ]
  },
  {
   "cell_type": "code",
   "execution_count": 21,
   "metadata": {
    "collapsed": false,
    "jupyter": {
     "outputs_hidden": false
    }
   },
   "outputs": [],
   "source": [
    "path_weather = os.path.join(os.path.abspath(os.getcwd()), 'data', 'weather')\n",
    "weather_filenames = [filename for filename in os.listdir(os.path.join(path_weather))]\n",
    "weather_filenames = weather_filenames[0:-1]\n",
    "weather_2017=[]\n",
    "weather_2021=[]\n",
    "for i in weather_filenames:\n",
    "    if '2017' in i:\n",
    "        weather_2017.append(pd.read_csv(os.path.join(path_weather, i)))\n",
    "    if '2018' in i:\n",
    "        weather_2017.append(pd.read_csv(os.path.join(path_weather, i)))\n",
    "    if '2019' in i:\n",
    "        weather_2017.append(pd.read_csv(os.path.join(path_weather, i)))\n",
    "    if '2020' in i:\n",
    "        weather_2017.append(pd.read_csv(os.path.join(path_weather, i)))\n",
    "    if '2021' in i:\n",
    "        weather_2021.append(pd.read_csv(os.path.join(path_weather, i)))\n",
    "    if '2022' in i:\n",
    "        weather_2021.append(pd.read_csv(os.path.join(path_weather, i)))\n",
    "df_weather_2017 = pd.concat(weather_2017,axis=0)\n",
    "df_weather_2021 = pd.concat(weather_2021,axis=0)"
   ]
  },
  {
   "cell_type": "code",
   "execution_count": 22,
   "metadata": {
    "collapsed": false,
    "jupyter": {
     "outputs_hidden": false
    }
   },
   "outputs": [
    {
     "data": {
      "text/html": [
       "<div>\n",
       "<style scoped>\n",
       "    .dataframe tbody tr th:only-of-type {\n",
       "        vertical-align: middle;\n",
       "    }\n",
       "\n",
       "    .dataframe tbody tr th {\n",
       "        vertical-align: top;\n",
       "    }\n",
       "\n",
       "    .dataframe thead th {\n",
       "        text-align: right;\n",
       "    }\n",
       "</style>\n",
       "<table border=\"1\" class=\"dataframe\">\n",
       "  <thead>\n",
       "    <tr style=\"text-align: right;\">\n",
       "      <th></th>\n",
       "      <th>Date/Time</th>\n",
       "      <th>Weather</th>\n",
       "      <th>Temp (°C)</th>\n",
       "    </tr>\n",
       "  </thead>\n",
       "  <tbody>\n",
       "    <tr>\n",
       "      <th>0</th>\n",
       "      <td>2017-01-01 00:00</td>\n",
       "      <td>NaN</td>\n",
       "      <td>1.5</td>\n",
       "    </tr>\n",
       "    <tr>\n",
       "      <th>1</th>\n",
       "      <td>2017-01-01 01:00</td>\n",
       "      <td>NaN</td>\n",
       "      <td>1.5</td>\n",
       "    </tr>\n",
       "    <tr>\n",
       "      <th>2</th>\n",
       "      <td>2017-01-01 02:00</td>\n",
       "      <td>NaN</td>\n",
       "      <td>1.0</td>\n",
       "    </tr>\n",
       "    <tr>\n",
       "      <th>3</th>\n",
       "      <td>2017-01-01 03:00</td>\n",
       "      <td>NaN</td>\n",
       "      <td>1.2</td>\n",
       "    </tr>\n",
       "    <tr>\n",
       "      <th>4</th>\n",
       "      <td>2017-01-01 04:00</td>\n",
       "      <td>NaN</td>\n",
       "      <td>1.3</td>\n",
       "    </tr>\n",
       "    <tr>\n",
       "      <th>...</th>\n",
       "      <td>...</td>\n",
       "      <td>...</td>\n",
       "      <td>...</td>\n",
       "    </tr>\n",
       "    <tr>\n",
       "      <th>739</th>\n",
       "      <td>2020-12-31 19:00</td>\n",
       "      <td>NaN</td>\n",
       "      <td>0.1</td>\n",
       "    </tr>\n",
       "    <tr>\n",
       "      <th>740</th>\n",
       "      <td>2020-12-31 20:00</td>\n",
       "      <td>NaN</td>\n",
       "      <td>0.0</td>\n",
       "    </tr>\n",
       "    <tr>\n",
       "      <th>741</th>\n",
       "      <td>2020-12-31 21:00</td>\n",
       "      <td>NaN</td>\n",
       "      <td>0.4</td>\n",
       "    </tr>\n",
       "    <tr>\n",
       "      <th>742</th>\n",
       "      <td>2020-12-31 22:00</td>\n",
       "      <td>NaN</td>\n",
       "      <td>-0.1</td>\n",
       "    </tr>\n",
       "    <tr>\n",
       "      <th>743</th>\n",
       "      <td>2020-12-31 23:00</td>\n",
       "      <td>NaN</td>\n",
       "      <td>-1.0</td>\n",
       "    </tr>\n",
       "  </tbody>\n",
       "</table>\n",
       "<p>35064 rows × 3 columns</p>\n",
       "</div>"
      ],
      "text/plain": [
       "            Date/Time Weather  Temp (°C)\n",
       "0    2017-01-01 00:00     NaN        1.5\n",
       "1    2017-01-01 01:00     NaN        1.5\n",
       "2    2017-01-01 02:00     NaN        1.0\n",
       "3    2017-01-01 03:00     NaN        1.2\n",
       "4    2017-01-01 04:00     NaN        1.3\n",
       "..                ...     ...        ...\n",
       "739  2020-12-31 19:00     NaN        0.1\n",
       "740  2020-12-31 20:00     NaN        0.0\n",
       "741  2020-12-31 21:00     NaN        0.4\n",
       "742  2020-12-31 22:00     NaN       -0.1\n",
       "743  2020-12-31 23:00     NaN       -1.0\n",
       "\n",
       "[35064 rows x 3 columns]"
      ]
     },
     "execution_count": 22,
     "metadata": {},
     "output_type": "execute_result"
    }
   ],
   "source": [
    "df_weather_2021_clean = df_weather_2021.loc[:,['Date/Time (LST)','Weather','Temp (°C)']]\n",
    "df_weather_2017_clean = df_weather_2017.loc[:,['Date/Time','Weather','Temp (°C)']]\n",
    "df_weather_2017_clean"
   ]
  },
  {
   "cell_type": "code",
   "execution_count": 23,
   "metadata": {
    "collapsed": false,
    "jupyter": {
     "outputs_hidden": false
    }
   },
   "outputs": [],
   "source": [
    "df_weather_2021_clean.columns = ['Date/Time','Weather','Temp (°C)']"
   ]
  },
  {
   "cell_type": "code",
   "execution_count": 24,
   "metadata": {
    "collapsed": false,
    "jupyter": {
     "outputs_hidden": false
    }
   },
   "outputs": [],
   "source": [
    "weather_data_clean = pd.concat([df_weather_2017_clean,df_weather_2021_clean],axis=0)"
   ]
  },
  {
   "cell_type": "code",
   "execution_count": 25,
   "metadata": {
    "collapsed": false,
    "jupyter": {
     "outputs_hidden": false
    }
   },
   "outputs": [
    {
     "data": {
      "text/html": [
       "<div>\n",
       "<style scoped>\n",
       "    .dataframe tbody tr th:only-of-type {\n",
       "        vertical-align: middle;\n",
       "    }\n",
       "\n",
       "    .dataframe tbody tr th {\n",
       "        vertical-align: top;\n",
       "    }\n",
       "\n",
       "    .dataframe thead th {\n",
       "        text-align: right;\n",
       "    }\n",
       "</style>\n",
       "<table border=\"1\" class=\"dataframe\">\n",
       "  <thead>\n",
       "    <tr style=\"text-align: right;\">\n",
       "      <th></th>\n",
       "      <th>Weather</th>\n",
       "      <th>Temp (°C)</th>\n",
       "    </tr>\n",
       "    <tr>\n",
       "      <th>Date/Time</th>\n",
       "      <th></th>\n",
       "      <th></th>\n",
       "    </tr>\n",
       "  </thead>\n",
       "  <tbody>\n",
       "    <tr>\n",
       "      <th>2017-01-01 00:00:00</th>\n",
       "      <td>NaN</td>\n",
       "      <td>1.5</td>\n",
       "    </tr>\n",
       "    <tr>\n",
       "      <th>2017-01-01 01:00:00</th>\n",
       "      <td>NaN</td>\n",
       "      <td>1.5</td>\n",
       "    </tr>\n",
       "    <tr>\n",
       "      <th>2017-01-01 02:00:00</th>\n",
       "      <td>NaN</td>\n",
       "      <td>1.0</td>\n",
       "    </tr>\n",
       "    <tr>\n",
       "      <th>2017-01-01 03:00:00</th>\n",
       "      <td>NaN</td>\n",
       "      <td>1.2</td>\n",
       "    </tr>\n",
       "    <tr>\n",
       "      <th>2017-01-01 04:00:00</th>\n",
       "      <td>NaN</td>\n",
       "      <td>1.3</td>\n",
       "    </tr>\n",
       "  </tbody>\n",
       "</table>\n",
       "</div>"
      ],
      "text/plain": [
       "                    Weather  Temp (°C)\n",
       "Date/Time                             \n",
       "2017-01-01 00:00:00     NaN        1.5\n",
       "2017-01-01 01:00:00     NaN        1.5\n",
       "2017-01-01 02:00:00     NaN        1.0\n",
       "2017-01-01 03:00:00     NaN        1.2\n",
       "2017-01-01 04:00:00     NaN        1.3"
      ]
     },
     "execution_count": 25,
     "metadata": {},
     "output_type": "execute_result"
    }
   ],
   "source": [
    "#Set date time as the index to weather data\n",
    "weather_data_clean = weather_data_clean.set_index('Date/Time')\n",
    "weather_data_clean.index = pd.DatetimeIndex(weather_data_clean.index)\n",
    "# View DataFrame\n",
    "weather_data_clean.head()"
   ]
  },
  {
   "cell_type": "code",
   "execution_count": 26,
   "metadata": {
    "collapsed": false,
    "jupyter": {
     "outputs_hidden": false
    }
   },
   "outputs": [
    {
     "data": {
      "text/html": [
       "<div>\n",
       "<style scoped>\n",
       "    .dataframe tbody tr th:only-of-type {\n",
       "        vertical-align: middle;\n",
       "    }\n",
       "\n",
       "    .dataframe tbody tr th {\n",
       "        vertical-align: top;\n",
       "    }\n",
       "\n",
       "    .dataframe thead th {\n",
       "        text-align: right;\n",
       "    }\n",
       "</style>\n",
       "<table border=\"1\" class=\"dataframe\">\n",
       "  <thead>\n",
       "    <tr style=\"text-align: right;\">\n",
       "      <th></th>\n",
       "      <th>start time</th>\n",
       "      <th>stop time</th>\n",
       "      <th>trip_duration</th>\n",
       "      <th>start station</th>\n",
       "      <th>stop station</th>\n",
       "      <th>user type</th>\n",
       "      <th>merge_time</th>\n",
       "      <th>Weather</th>\n",
       "      <th>Temp (°C)</th>\n",
       "    </tr>\n",
       "  </thead>\n",
       "  <tbody>\n",
       "    <tr>\n",
       "      <th>0</th>\n",
       "      <td>2017-01-01 00:03:00</td>\n",
       "      <td>2017-01-01 00:08:00</td>\n",
       "      <td>274</td>\n",
       "      <td>Bay St / College St (East Side)</td>\n",
       "      <td>Bay St / Albert St</td>\n",
       "      <td>Member</td>\n",
       "      <td>2017-01-01</td>\n",
       "      <td>NaN</td>\n",
       "      <td>1.5</td>\n",
       "    </tr>\n",
       "    <tr>\n",
       "      <th>1</th>\n",
       "      <td>2017-01-01 00:03:00</td>\n",
       "      <td>2017-01-01 00:12:00</td>\n",
       "      <td>538</td>\n",
       "      <td>Niagara St / Richmond St W</td>\n",
       "      <td>King St W / Fraser Ave</td>\n",
       "      <td>Member</td>\n",
       "      <td>2017-01-01</td>\n",
       "      <td>NaN</td>\n",
       "      <td>1.5</td>\n",
       "    </tr>\n",
       "    <tr>\n",
       "      <th>2</th>\n",
       "      <td>2017-01-01 00:05:00</td>\n",
       "      <td>2017-01-01 00:22:00</td>\n",
       "      <td>992</td>\n",
       "      <td>Front St / Yonge St (Hockey Hall of Fame)</td>\n",
       "      <td>Church St  / Wood St</td>\n",
       "      <td>Member</td>\n",
       "      <td>2017-01-01</td>\n",
       "      <td>NaN</td>\n",
       "      <td>1.5</td>\n",
       "    </tr>\n",
       "    <tr>\n",
       "      <th>3</th>\n",
       "      <td>2017-01-01 00:09:00</td>\n",
       "      <td>2017-01-01 00:26:00</td>\n",
       "      <td>1005</td>\n",
       "      <td>East Liberty St / Pirandello St</td>\n",
       "      <td>Queen St W / York St (City Hall)</td>\n",
       "      <td>Member</td>\n",
       "      <td>2017-01-01</td>\n",
       "      <td>NaN</td>\n",
       "      <td>1.5</td>\n",
       "    </tr>\n",
       "    <tr>\n",
       "      <th>4</th>\n",
       "      <td>2017-01-01 00:14:00</td>\n",
       "      <td>2017-01-01 00:25:00</td>\n",
       "      <td>645</td>\n",
       "      <td>Bathurst St / Queens Quay W</td>\n",
       "      <td>King St W / Spadina Ave</td>\n",
       "      <td>Member</td>\n",
       "      <td>2017-01-01</td>\n",
       "      <td>NaN</td>\n",
       "      <td>1.5</td>\n",
       "    </tr>\n",
       "  </tbody>\n",
       "</table>\n",
       "</div>"
      ],
      "text/plain": [
       "           start time           stop time  trip_duration  \\\n",
       "0 2017-01-01 00:03:00 2017-01-01 00:08:00            274   \n",
       "1 2017-01-01 00:03:00 2017-01-01 00:12:00            538   \n",
       "2 2017-01-01 00:05:00 2017-01-01 00:22:00            992   \n",
       "3 2017-01-01 00:09:00 2017-01-01 00:26:00           1005   \n",
       "4 2017-01-01 00:14:00 2017-01-01 00:25:00            645   \n",
       "\n",
       "                               start station  \\\n",
       "0            Bay St / College St (East Side)   \n",
       "1                 Niagara St / Richmond St W   \n",
       "2  Front St / Yonge St (Hockey Hall of Fame)   \n",
       "3            East Liberty St / Pirandello St   \n",
       "4                Bathurst St / Queens Quay W   \n",
       "\n",
       "                       stop station user type merge_time Weather  Temp (°C)  \n",
       "0                Bay St / Albert St    Member 2017-01-01     NaN        1.5  \n",
       "1            King St W / Fraser Ave    Member 2017-01-01     NaN        1.5  \n",
       "2              Church St  / Wood St    Member 2017-01-01     NaN        1.5  \n",
       "3  Queen St W / York St (City Hall)    Member 2017-01-01     NaN        1.5  \n",
       "4           King St W / Spadina Ave    Member 2017-01-01     NaN        1.5  "
      ]
     },
     "execution_count": 26,
     "metadata": {},
     "output_type": "execute_result"
    }
   ],
   "source": [
    "# Write your code here\n",
    "trips_df['merge_time'] = trips_df['start time'].round('H')\n",
    "\n",
    "data_merged = trips_df.merge(right = weather_data_clean, how = 'left', left_on = 'merge_time', right_index = True)\n",
    "\n",
    "# View DataFrame\n",
    "data_merged.head()\n",
    "\n"
   ]
  },
  {
   "cell_type": "code",
   "execution_count": 27,
   "metadata": {
    "collapsed": false,
    "jupyter": {
     "outputs_hidden": false
    }
   },
   "outputs": [
    {
     "data": {
      "text/html": [
       "<div>\n",
       "<style scoped>\n",
       "    .dataframe tbody tr th:only-of-type {\n",
       "        vertical-align: middle;\n",
       "    }\n",
       "\n",
       "    .dataframe tbody tr th {\n",
       "        vertical-align: top;\n",
       "    }\n",
       "\n",
       "    .dataframe thead th {\n",
       "        text-align: right;\n",
       "    }\n",
       "</style>\n",
       "<table border=\"1\" class=\"dataframe\">\n",
       "  <thead>\n",
       "    <tr style=\"text-align: right;\">\n",
       "      <th></th>\n",
       "      <th>start time</th>\n",
       "      <th>stop time</th>\n",
       "      <th>trip_duration</th>\n",
       "      <th>start station</th>\n",
       "      <th>stop station</th>\n",
       "      <th>user type</th>\n",
       "      <th>merge_time</th>\n",
       "      <th>Weather</th>\n",
       "      <th>Temp (°C)</th>\n",
       "    </tr>\n",
       "  </thead>\n",
       "  <tbody>\n",
       "    <tr>\n",
       "      <th>0</th>\n",
       "      <td>2017-01-01 00:03:00</td>\n",
       "      <td>2017-01-01 00:08:00</td>\n",
       "      <td>274</td>\n",
       "      <td>Bay St / College St (East Side)</td>\n",
       "      <td>Bay St / Albert St</td>\n",
       "      <td>Member</td>\n",
       "      <td>2017-01-01</td>\n",
       "      <td>NaN</td>\n",
       "      <td>1.5</td>\n",
       "    </tr>\n",
       "    <tr>\n",
       "      <th>1</th>\n",
       "      <td>2017-01-01 00:03:00</td>\n",
       "      <td>2017-01-01 00:12:00</td>\n",
       "      <td>538</td>\n",
       "      <td>Niagara St / Richmond St W</td>\n",
       "      <td>King St W / Fraser Ave</td>\n",
       "      <td>Member</td>\n",
       "      <td>2017-01-01</td>\n",
       "      <td>NaN</td>\n",
       "      <td>1.5</td>\n",
       "    </tr>\n",
       "    <tr>\n",
       "      <th>2</th>\n",
       "      <td>2017-01-01 00:05:00</td>\n",
       "      <td>2017-01-01 00:22:00</td>\n",
       "      <td>992</td>\n",
       "      <td>Front St / Yonge St (Hockey Hall of Fame)</td>\n",
       "      <td>Church St  / Wood St</td>\n",
       "      <td>Member</td>\n",
       "      <td>2017-01-01</td>\n",
       "      <td>NaN</td>\n",
       "      <td>1.5</td>\n",
       "    </tr>\n",
       "    <tr>\n",
       "      <th>3</th>\n",
       "      <td>2017-01-01 00:09:00</td>\n",
       "      <td>2017-01-01 00:26:00</td>\n",
       "      <td>1005</td>\n",
       "      <td>East Liberty St / Pirandello St</td>\n",
       "      <td>Queen St W / York St (City Hall)</td>\n",
       "      <td>Member</td>\n",
       "      <td>2017-01-01</td>\n",
       "      <td>NaN</td>\n",
       "      <td>1.5</td>\n",
       "    </tr>\n",
       "    <tr>\n",
       "      <th>4</th>\n",
       "      <td>2017-01-01 00:14:00</td>\n",
       "      <td>2017-01-01 00:25:00</td>\n",
       "      <td>645</td>\n",
       "      <td>Bathurst St / Queens Quay W</td>\n",
       "      <td>King St W / Spadina Ave</td>\n",
       "      <td>Member</td>\n",
       "      <td>2017-01-01</td>\n",
       "      <td>NaN</td>\n",
       "      <td>1.5</td>\n",
       "    </tr>\n",
       "  </tbody>\n",
       "</table>\n",
       "</div>"
      ],
      "text/plain": [
       "           start time           stop time  trip_duration  \\\n",
       "0 2017-01-01 00:03:00 2017-01-01 00:08:00            274   \n",
       "1 2017-01-01 00:03:00 2017-01-01 00:12:00            538   \n",
       "2 2017-01-01 00:05:00 2017-01-01 00:22:00            992   \n",
       "3 2017-01-01 00:09:00 2017-01-01 00:26:00           1005   \n",
       "4 2017-01-01 00:14:00 2017-01-01 00:25:00            645   \n",
       "\n",
       "                               start station  \\\n",
       "0            Bay St / College St (East Side)   \n",
       "1                 Niagara St / Richmond St W   \n",
       "2  Front St / Yonge St (Hockey Hall of Fame)   \n",
       "3            East Liberty St / Pirandello St   \n",
       "4                Bathurst St / Queens Quay W   \n",
       "\n",
       "                       stop station user type merge_time Weather  Temp (°C)  \n",
       "0                Bay St / Albert St    Member 2017-01-01     NaN        1.5  \n",
       "1            King St W / Fraser Ave    Member 2017-01-01     NaN        1.5  \n",
       "2              Church St  / Wood St    Member 2017-01-01     NaN        1.5  \n",
       "3  Queen St W / York St (City Hall)    Member 2017-01-01     NaN        1.5  \n",
       "4           King St W / Spadina Ave    Member 2017-01-01     NaN        1.5  "
      ]
     },
     "execution_count": 27,
     "metadata": {},
     "output_type": "execute_result"
    }
   ],
   "source": [
    "data_merged.head()"
   ]
  },
  {
   "cell_type": "markdown",
   "metadata": {},
   "source": [
    "#### Data Prep for the RandomForest Model"
   ]
  },
  {
   "cell_type": "markdown",
   "metadata": {},
   "source": [
    "Dropping Merge Time Column"
   ]
  },
  {
   "cell_type": "code",
   "execution_count": 28,
   "metadata": {
    "collapsed": false,
    "jupyter": {
     "outputs_hidden": false
    }
   },
   "outputs": [],
   "source": [
    "data_merged.drop(['merge_time', 'trip_duration', 'start station', 'stop time'], inplace=True, axis=1)"
   ]
  },
  {
   "cell_type": "code",
   "execution_count": 29,
   "metadata": {
    "collapsed": false,
    "jupyter": {
     "outputs_hidden": false
    }
   },
   "outputs": [
    {
     "data": {
      "text/html": [
       "<div>\n",
       "<style scoped>\n",
       "    .dataframe tbody tr th:only-of-type {\n",
       "        vertical-align: middle;\n",
       "    }\n",
       "\n",
       "    .dataframe tbody tr th {\n",
       "        vertical-align: top;\n",
       "    }\n",
       "\n",
       "    .dataframe thead th {\n",
       "        text-align: right;\n",
       "    }\n",
       "</style>\n",
       "<table border=\"1\" class=\"dataframe\">\n",
       "  <thead>\n",
       "    <tr style=\"text-align: right;\">\n",
       "      <th></th>\n",
       "      <th>start time</th>\n",
       "      <th>stop station</th>\n",
       "      <th>user type</th>\n",
       "      <th>Weather</th>\n",
       "      <th>Temp (°C)</th>\n",
       "    </tr>\n",
       "  </thead>\n",
       "  <tbody>\n",
       "    <tr>\n",
       "      <th>0</th>\n",
       "      <td>2017-01-01 00:03:00</td>\n",
       "      <td>Bay St / Albert St</td>\n",
       "      <td>Member</td>\n",
       "      <td>NaN</td>\n",
       "      <td>1.5</td>\n",
       "    </tr>\n",
       "    <tr>\n",
       "      <th>1</th>\n",
       "      <td>2017-01-01 00:03:00</td>\n",
       "      <td>King St W / Fraser Ave</td>\n",
       "      <td>Member</td>\n",
       "      <td>NaN</td>\n",
       "      <td>1.5</td>\n",
       "    </tr>\n",
       "    <tr>\n",
       "      <th>2</th>\n",
       "      <td>2017-01-01 00:05:00</td>\n",
       "      <td>Church St  / Wood St</td>\n",
       "      <td>Member</td>\n",
       "      <td>NaN</td>\n",
       "      <td>1.5</td>\n",
       "    </tr>\n",
       "    <tr>\n",
       "      <th>3</th>\n",
       "      <td>2017-01-01 00:09:00</td>\n",
       "      <td>Queen St W / York St (City Hall)</td>\n",
       "      <td>Member</td>\n",
       "      <td>NaN</td>\n",
       "      <td>1.5</td>\n",
       "    </tr>\n",
       "    <tr>\n",
       "      <th>4</th>\n",
       "      <td>2017-01-01 00:14:00</td>\n",
       "      <td>King St W / Spadina Ave</td>\n",
       "      <td>Member</td>\n",
       "      <td>NaN</td>\n",
       "      <td>1.5</td>\n",
       "    </tr>\n",
       "  </tbody>\n",
       "</table>\n",
       "</div>"
      ],
      "text/plain": [
       "           start time                      stop station user type Weather  \\\n",
       "0 2017-01-01 00:03:00                Bay St / Albert St    Member     NaN   \n",
       "1 2017-01-01 00:03:00            King St W / Fraser Ave    Member     NaN   \n",
       "2 2017-01-01 00:05:00              Church St  / Wood St    Member     NaN   \n",
       "3 2017-01-01 00:09:00  Queen St W / York St (City Hall)    Member     NaN   \n",
       "4 2017-01-01 00:14:00           King St W / Spadina Ave    Member     NaN   \n",
       "\n",
       "   Temp (°C)  \n",
       "0        1.5  \n",
       "1        1.5  \n",
       "2        1.5  \n",
       "3        1.5  \n",
       "4        1.5  "
      ]
     },
     "execution_count": 29,
     "metadata": {},
     "output_type": "execute_result"
    }
   ],
   "source": [
    "data_merged.head()"
   ]
  },
  {
   "cell_type": "markdown",
   "metadata": {},
   "source": [
    "Convert user type into 0/1\n",
    "'Member' = 1\n",
    "'Casual' = 0"
   ]
  },
  {
   "cell_type": "code",
   "execution_count": 30,
   "metadata": {
    "collapsed": false,
    "jupyter": {
     "outputs_hidden": false
    }
   },
   "outputs": [
    {
     "data": {
      "text/html": [
       "<div>\n",
       "<style scoped>\n",
       "    .dataframe tbody tr th:only-of-type {\n",
       "        vertical-align: middle;\n",
       "    }\n",
       "\n",
       "    .dataframe tbody tr th {\n",
       "        vertical-align: top;\n",
       "    }\n",
       "\n",
       "    .dataframe thead th {\n",
       "        text-align: right;\n",
       "    }\n",
       "</style>\n",
       "<table border=\"1\" class=\"dataframe\">\n",
       "  <thead>\n",
       "    <tr style=\"text-align: right;\">\n",
       "      <th></th>\n",
       "      <th>start time</th>\n",
       "      <th>stop station</th>\n",
       "      <th>user type</th>\n",
       "      <th>Weather</th>\n",
       "      <th>Temp (°C)</th>\n",
       "    </tr>\n",
       "  </thead>\n",
       "  <tbody>\n",
       "    <tr>\n",
       "      <th>0</th>\n",
       "      <td>2017-01-01 00:03:00</td>\n",
       "      <td>Bay St / Albert St</td>\n",
       "      <td>1</td>\n",
       "      <td>NaN</td>\n",
       "      <td>1.5</td>\n",
       "    </tr>\n",
       "    <tr>\n",
       "      <th>1</th>\n",
       "      <td>2017-01-01 00:03:00</td>\n",
       "      <td>King St W / Fraser Ave</td>\n",
       "      <td>1</td>\n",
       "      <td>NaN</td>\n",
       "      <td>1.5</td>\n",
       "    </tr>\n",
       "    <tr>\n",
       "      <th>2</th>\n",
       "      <td>2017-01-01 00:05:00</td>\n",
       "      <td>Church St  / Wood St</td>\n",
       "      <td>1</td>\n",
       "      <td>NaN</td>\n",
       "      <td>1.5</td>\n",
       "    </tr>\n",
       "    <tr>\n",
       "      <th>3</th>\n",
       "      <td>2017-01-01 00:09:00</td>\n",
       "      <td>Queen St W / York St (City Hall)</td>\n",
       "      <td>1</td>\n",
       "      <td>NaN</td>\n",
       "      <td>1.5</td>\n",
       "    </tr>\n",
       "    <tr>\n",
       "      <th>4</th>\n",
       "      <td>2017-01-01 00:14:00</td>\n",
       "      <td>King St W / Spadina Ave</td>\n",
       "      <td>1</td>\n",
       "      <td>NaN</td>\n",
       "      <td>1.5</td>\n",
       "    </tr>\n",
       "  </tbody>\n",
       "</table>\n",
       "</div>"
      ],
      "text/plain": [
       "           start time                      stop station  user type Weather  \\\n",
       "0 2017-01-01 00:03:00                Bay St / Albert St          1     NaN   \n",
       "1 2017-01-01 00:03:00            King St W / Fraser Ave          1     NaN   \n",
       "2 2017-01-01 00:05:00              Church St  / Wood St          1     NaN   \n",
       "3 2017-01-01 00:09:00  Queen St W / York St (City Hall)          1     NaN   \n",
       "4 2017-01-01 00:14:00           King St W / Spadina Ave          1     NaN   \n",
       "\n",
       "   Temp (°C)  \n",
       "0        1.5  \n",
       "1        1.5  \n",
       "2        1.5  \n",
       "3        1.5  \n",
       "4        1.5  "
      ]
     },
     "execution_count": 30,
     "metadata": {},
     "output_type": "execute_result"
    }
   ],
   "source": [
    "data_merged['user type'].replace({'Casual':0,\n",
    "                                  'Member':1,\n",
    "                                  'Casual Member':0,\n",
    "                                  'Annual Member':1\n",
    "                                  },inplace=True)\n",
    "data_merged.head()"
   ]
  },
  {
   "cell_type": "code",
   "execution_count": 31,
   "metadata": {
    "collapsed": false,
    "jupyter": {
     "outputs_hidden": false
    }
   },
   "outputs": [
    {
     "data": {
      "text/plain": [
       "array([1, 0], dtype=int64)"
      ]
     },
     "execution_count": 31,
     "metadata": {},
     "output_type": "execute_result"
    }
   ],
   "source": [
    "data_merged['user type'].unique() #should only be 0 and 1"
   ]
  },
  {
   "cell_type": "markdown",
   "metadata": {},
   "source": [
    "Convert Weather into 0/1 \\\n",
    "Nan = 0 \\\n",
    "Precipitation = 1 "
   ]
  },
  {
   "cell_type": "code",
   "execution_count": 32,
   "metadata": {
    "collapsed": false,
    "jupyter": {
     "outputs_hidden": false
    }
   },
   "outputs": [],
   "source": [
    "data_merged['Weather'] = data_merged['Weather'].apply(lambda x: 1 if pd.notna(x) else 0)"
   ]
  },
  {
   "cell_type": "code",
   "execution_count": 33,
   "metadata": {
    "collapsed": false,
    "jupyter": {
     "outputs_hidden": false
    }
   },
   "outputs": [
    {
     "data": {
      "text/plain": [
       "array([0, 1], dtype=int64)"
      ]
     },
     "execution_count": 33,
     "metadata": {},
     "output_type": "execute_result"
    }
   ],
   "source": [
    "data_merged['Weather'].unique() #should only be 0 and 1"
   ]
  },
  {
   "cell_type": "markdown",
   "metadata": {},
   "source": [
    "Temperature stuff"
   ]
  },
  {
   "cell_type": "code",
   "execution_count": 34,
   "metadata": {
    "collapsed": false,
    "jupyter": {
     "outputs_hidden": false
    }
   },
   "outputs": [
    {
     "data": {
      "text/plain": [
       "605032"
      ]
     },
     "execution_count": 34,
     "metadata": {},
     "output_type": "execute_result"
    }
   ],
   "source": [
    "sum(data_merged['Temp (°C)'].isna()) #weird there are some temperatures that are NANs"
   ]
  },
  {
   "cell_type": "code",
   "execution_count": 35,
   "metadata": {
    "collapsed": false,
    "jupyter": {
     "outputs_hidden": false
    }
   },
   "outputs": [],
   "source": [
    "#going to drop these rows as they are a small part of the dataset"
   ]
  },
  {
   "cell_type": "code",
   "execution_count": 36,
   "metadata": {
    "collapsed": false,
    "jupyter": {
     "outputs_hidden": false
    }
   },
   "outputs": [
    {
     "data": {
      "text/html": [
       "<div>\n",
       "<style scoped>\n",
       "    .dataframe tbody tr th:only-of-type {\n",
       "        vertical-align: middle;\n",
       "    }\n",
       "\n",
       "    .dataframe tbody tr th {\n",
       "        vertical-align: top;\n",
       "    }\n",
       "\n",
       "    .dataframe thead th {\n",
       "        text-align: right;\n",
       "    }\n",
       "</style>\n",
       "<table border=\"1\" class=\"dataframe\">\n",
       "  <thead>\n",
       "    <tr style=\"text-align: right;\">\n",
       "      <th></th>\n",
       "      <th>start time</th>\n",
       "      <th>stop station</th>\n",
       "      <th>user type</th>\n",
       "      <th>Weather</th>\n",
       "      <th>Temp (°C)</th>\n",
       "    </tr>\n",
       "  </thead>\n",
       "  <tbody>\n",
       "    <tr>\n",
       "      <th>0</th>\n",
       "      <td>2017-01-01 00:03:00</td>\n",
       "      <td>Bay St / Albert St</td>\n",
       "      <td>1</td>\n",
       "      <td>0</td>\n",
       "      <td>1.5</td>\n",
       "    </tr>\n",
       "    <tr>\n",
       "      <th>1</th>\n",
       "      <td>2017-01-01 00:03:00</td>\n",
       "      <td>King St W / Fraser Ave</td>\n",
       "      <td>1</td>\n",
       "      <td>0</td>\n",
       "      <td>1.5</td>\n",
       "    </tr>\n",
       "    <tr>\n",
       "      <th>2</th>\n",
       "      <td>2017-01-01 00:05:00</td>\n",
       "      <td>Church St  / Wood St</td>\n",
       "      <td>1</td>\n",
       "      <td>0</td>\n",
       "      <td>1.5</td>\n",
       "    </tr>\n",
       "    <tr>\n",
       "      <th>3</th>\n",
       "      <td>2017-01-01 00:09:00</td>\n",
       "      <td>Queen St W / York St (City Hall)</td>\n",
       "      <td>1</td>\n",
       "      <td>0</td>\n",
       "      <td>1.5</td>\n",
       "    </tr>\n",
       "    <tr>\n",
       "      <th>4</th>\n",
       "      <td>2017-01-01 00:14:00</td>\n",
       "      <td>King St W / Spadina Ave</td>\n",
       "      <td>1</td>\n",
       "      <td>0</td>\n",
       "      <td>1.5</td>\n",
       "    </tr>\n",
       "  </tbody>\n",
       "</table>\n",
       "</div>"
      ],
      "text/plain": [
       "           start time                      stop station  user type  Weather  \\\n",
       "0 2017-01-01 00:03:00                Bay St / Albert St          1        0   \n",
       "1 2017-01-01 00:03:00            King St W / Fraser Ave          1        0   \n",
       "2 2017-01-01 00:05:00              Church St  / Wood St          1        0   \n",
       "3 2017-01-01 00:09:00  Queen St W / York St (City Hall)          1        0   \n",
       "4 2017-01-01 00:14:00           King St W / Spadina Ave          1        0   \n",
       "\n",
       "   Temp (°C)  \n",
       "0        1.5  \n",
       "1        1.5  \n",
       "2        1.5  \n",
       "3        1.5  \n",
       "4        1.5  "
      ]
     },
     "execution_count": 36,
     "metadata": {},
     "output_type": "execute_result"
    }
   ],
   "source": [
    "#new dataset without temperature and stop station nans\n",
    "data_merged = data_merged[~data_merged['Temp (°C)'].isna()]\n",
    "data_merged = data_merged[~data_merged['stop station'].isna()]\n",
    "data_merged.head()"
   ]
  },
  {
   "cell_type": "markdown",
   "metadata": {},
   "source": [
    "### Import and include the neighbourhoods dataset"
   ]
  },
  {
   "cell_type": "code",
   "execution_count": 37,
   "metadata": {},
   "outputs": [],
   "source": [
    "import geopandas as gpd"
   ]
  },
  {
   "cell_type": "code",
   "execution_count": 38,
   "metadata": {
    "collapsed": false,
    "jupyter": {
     "outputs_hidden": false
    }
   },
   "outputs": [
    {
     "data": {
      "text/html": [
       "<div>\n",
       "<style scoped>\n",
       "    .dataframe tbody tr th:only-of-type {\n",
       "        vertical-align: middle;\n",
       "    }\n",
       "\n",
       "    .dataframe tbody tr th {\n",
       "        vertical-align: top;\n",
       "    }\n",
       "\n",
       "    .dataframe thead th {\n",
       "        text-align: right;\n",
       "    }\n",
       "</style>\n",
       "<table border=\"1\" class=\"dataframe\">\n",
       "  <thead>\n",
       "    <tr style=\"text-align: right;\">\n",
       "      <th></th>\n",
       "      <th>start time</th>\n",
       "      <th>stop station</th>\n",
       "      <th>user type</th>\n",
       "      <th>Weather</th>\n",
       "      <th>Temp (°C)</th>\n",
       "      <th>station_id</th>\n",
       "      <th>name</th>\n",
       "      <th>lat</th>\n",
       "      <th>lon</th>\n",
       "    </tr>\n",
       "  </thead>\n",
       "  <tbody>\n",
       "    <tr>\n",
       "      <th>0</th>\n",
       "      <td>2017-01-01 00:03:00</td>\n",
       "      <td>Bay St / Albert St</td>\n",
       "      <td>1</td>\n",
       "      <td>0</td>\n",
       "      <td>1.5</td>\n",
       "      <td>7021.0</td>\n",
       "      <td>Bay St / Albert St</td>\n",
       "      <td>43.653264</td>\n",
       "      <td>-79.382458</td>\n",
       "    </tr>\n",
       "    <tr>\n",
       "      <th>1</th>\n",
       "      <td>2017-01-01 00:03:00</td>\n",
       "      <td>King St W / Fraser Ave</td>\n",
       "      <td>1</td>\n",
       "      <td>0</td>\n",
       "      <td>1.5</td>\n",
       "      <td>7147.0</td>\n",
       "      <td>King St W / Fraser Ave</td>\n",
       "      <td>43.639444</td>\n",
       "      <td>-79.425278</td>\n",
       "    </tr>\n",
       "    <tr>\n",
       "      <th>2</th>\n",
       "      <td>2017-01-01 00:05:00</td>\n",
       "      <td>Church St  / Wood St</td>\n",
       "      <td>1</td>\n",
       "      <td>0</td>\n",
       "      <td>1.5</td>\n",
       "      <td>7089.0</td>\n",
       "      <td>Church St  / Wood St</td>\n",
       "      <td>43.662712</td>\n",
       "      <td>-79.379903</td>\n",
       "    </tr>\n",
       "    <tr>\n",
       "      <th>3</th>\n",
       "      <td>2017-01-01 00:09:00</td>\n",
       "      <td>Queen St W / York St (City Hall)</td>\n",
       "      <td>1</td>\n",
       "      <td>0</td>\n",
       "      <td>1.5</td>\n",
       "      <td>7202.0</td>\n",
       "      <td>Queen St W / York St (City Hall)</td>\n",
       "      <td>43.651667</td>\n",
       "      <td>-79.384167</td>\n",
       "    </tr>\n",
       "    <tr>\n",
       "      <th>4</th>\n",
       "      <td>2017-01-01 00:14:00</td>\n",
       "      <td>King St W / Spadina Ave</td>\n",
       "      <td>1</td>\n",
       "      <td>0</td>\n",
       "      <td>1.5</td>\n",
       "      <td>7010.0</td>\n",
       "      <td>King St W / Spadina Ave</td>\n",
       "      <td>43.645323</td>\n",
       "      <td>-79.395003</td>\n",
       "    </tr>\n",
       "  </tbody>\n",
       "</table>\n",
       "</div>"
      ],
      "text/plain": [
       "           start time                      stop station  user type  Weather  \\\n",
       "0 2017-01-01 00:03:00                Bay St / Albert St          1        0   \n",
       "1 2017-01-01 00:03:00            King St W / Fraser Ave          1        0   \n",
       "2 2017-01-01 00:05:00              Church St  / Wood St          1        0   \n",
       "3 2017-01-01 00:09:00  Queen St W / York St (City Hall)          1        0   \n",
       "4 2017-01-01 00:14:00           King St W / Spadina Ave          1        0   \n",
       "\n",
       "   Temp (°C)  station_id                              name        lat  \\\n",
       "0        1.5      7021.0                Bay St / Albert St  43.653264   \n",
       "1        1.5      7147.0            King St W / Fraser Ave  43.639444   \n",
       "2        1.5      7089.0              Church St  / Wood St  43.662712   \n",
       "3        1.5      7202.0  Queen St W / York St (City Hall)  43.651667   \n",
       "4        1.5      7010.0           King St W / Spadina Ave  43.645323   \n",
       "\n",
       "         lon  \n",
       "0 -79.382458  \n",
       "1 -79.425278  \n",
       "2 -79.379903  \n",
       "3 -79.384167  \n",
       "4 -79.395003  "
      ]
     },
     "execution_count": 38,
     "metadata": {},
     "output_type": "execute_result"
    }
   ],
   "source": [
    "#add the lat and lon for the stop station\n",
    "data_merged_lat_lon = data_merged.merge(stations, how='left', left_on='stop station', right_on='name')\n",
    "data_merged_lat_lon.head()"
   ]
  },
  {
   "cell_type": "code",
   "execution_count": 39,
   "metadata": {
    "collapsed": false,
    "jupyter": {
     "outputs_hidden": false
    }
   },
   "outputs": [],
   "source": [
    "#drop the unnecesary columns\n",
    "data_merged_lat_lon = data_merged_lat_lon.drop(['station_id','name', 'stop station'], axis=1)"
   ]
  },
  {
   "cell_type": "code",
   "execution_count": 40,
   "metadata": {
    "collapsed": false,
    "jupyter": {
     "outputs_hidden": false
    },
    "pycharm": {
     "is_executing": true
    }
   },
   "outputs": [],
   "source": [
    "#get path for the toronto neighbourhood\n",
    "path_neighbourhood = os.path.join(os.path.abspath(os.getcwd()), 'data', 'neighbourhoods')\n",
    "#import the neighbourhoods file\n",
    "neighbourhoods = gpd.read_file(os.path.join(path_neighbourhood, 'toronto_neighbourhoods.shp'))"
   ]
  },
  {
   "cell_type": "code",
   "execution_count": 41,
   "metadata": {
    "collapsed": false,
    "jupyter": {
     "outputs_hidden": false
    }
   },
   "outputs": [
    {
     "data": {
      "text/html": [
       "<div>\n",
       "<style scoped>\n",
       "    .dataframe tbody tr th:only-of-type {\n",
       "        vertical-align: middle;\n",
       "    }\n",
       "\n",
       "    .dataframe tbody tr th {\n",
       "        vertical-align: top;\n",
       "    }\n",
       "\n",
       "    .dataframe thead th {\n",
       "        text-align: right;\n",
       "    }\n",
       "</style>\n",
       "<table border=\"1\" class=\"dataframe\">\n",
       "  <thead>\n",
       "    <tr style=\"text-align: right;\">\n",
       "      <th></th>\n",
       "      <th>name</th>\n",
       "      <th>geometry</th>\n",
       "    </tr>\n",
       "  </thead>\n",
       "  <tbody>\n",
       "    <tr>\n",
       "      <th>0</th>\n",
       "      <td>Wychwood</td>\n",
       "      <td>POLYGON ((-79.43592 43.68015, -79.43492 43.680...</td>\n",
       "    </tr>\n",
       "    <tr>\n",
       "      <th>1</th>\n",
       "      <td>Yonge-Eglinton</td>\n",
       "      <td>POLYGON ((-79.41096 43.70408, -79.40962 43.704...</td>\n",
       "    </tr>\n",
       "    <tr>\n",
       "      <th>2</th>\n",
       "      <td>Yonge-St.Clair</td>\n",
       "      <td>POLYGON ((-79.39119 43.68108, -79.39141 43.680...</td>\n",
       "    </tr>\n",
       "    <tr>\n",
       "      <th>3</th>\n",
       "      <td>York University Heights</td>\n",
       "      <td>POLYGON ((-79.50529 43.75987, -79.50488 43.759...</td>\n",
       "    </tr>\n",
       "    <tr>\n",
       "      <th>4</th>\n",
       "      <td>Yorkdale-Glen Park</td>\n",
       "      <td>POLYGON ((-79.43969 43.70561, -79.44011 43.705...</td>\n",
       "    </tr>\n",
       "  </tbody>\n",
       "</table>\n",
       "</div>"
      ],
      "text/plain": [
       "                      name                                           geometry\n",
       "0                 Wychwood  POLYGON ((-79.43592 43.68015, -79.43492 43.680...\n",
       "1           Yonge-Eglinton  POLYGON ((-79.41096 43.70408, -79.40962 43.704...\n",
       "2           Yonge-St.Clair  POLYGON ((-79.39119 43.68108, -79.39141 43.680...\n",
       "3  York University Heights  POLYGON ((-79.50529 43.75987, -79.50488 43.759...\n",
       "4       Yorkdale-Glen Park  POLYGON ((-79.43969 43.70561, -79.44011 43.705..."
      ]
     },
     "execution_count": 41,
     "metadata": {},
     "output_type": "execute_result"
    }
   ],
   "source": [
    "#remove uneccessary cols and rename 'FIELD_8' to 'name'\n",
    "neighbourhoods = neighbourhoods[['FIELD_8', 'geometry']].rename(columns={'FIELD_8':'name'})\n",
    "#removes the last id and space for each name in column 'name'\n",
    "neighbourhoods['name'] = neighbourhoods['name'].apply(lambda x: x.split('(')[0][:-1])\n",
    "\n",
    "# View GeoDataFrame\n",
    "neighbourhoods.head()"
   ]
  },
  {
   "cell_type": "code",
   "execution_count": 42,
   "metadata": {
    "tags": []
   },
   "outputs": [],
   "source": [
    "#converting it to geo df so we can geometry for stop point\n",
    "data_merged_gdf = gpd.GeoDataFrame(data=data_merged_lat_lon,\n",
    "                                   geometry = gpd.points_from_xy(data_merged_lat_lon.lon,\n",
    "                                                                 data_merged_lat_lon.lat))\n",
    "\n",
    "#getting the right coordinate system\n",
    "data_merged_gdf.crs = {'init': 'epsg:4326'}"
   ]
  },
  {
   "cell_type": "code",
   "execution_count": 43,
   "metadata": {
    "collapsed": false,
    "jupyter": {
     "outputs_hidden": false
    }
   },
   "outputs": [],
   "source": [
    "data_merged_gdf['neighbourhood'] = data_merged_gdf.sjoin(neighbourhoods)['name']"
   ]
  },
  {
   "cell_type": "code",
   "execution_count": 44,
   "metadata": {},
   "outputs": [
    {
     "data": {
      "text/html": [
       "<div>\n",
       "<style scoped>\n",
       "    .dataframe tbody tr th:only-of-type {\n",
       "        vertical-align: middle;\n",
       "    }\n",
       "\n",
       "    .dataframe tbody tr th {\n",
       "        vertical-align: top;\n",
       "    }\n",
       "\n",
       "    .dataframe thead th {\n",
       "        text-align: right;\n",
       "    }\n",
       "</style>\n",
       "<table border=\"1\" class=\"dataframe\">\n",
       "  <thead>\n",
       "    <tr style=\"text-align: right;\">\n",
       "      <th></th>\n",
       "      <th>start time</th>\n",
       "      <th>user type</th>\n",
       "      <th>Weather</th>\n",
       "      <th>Temp (°C)</th>\n",
       "      <th>lat</th>\n",
       "      <th>lon</th>\n",
       "      <th>geometry</th>\n",
       "      <th>neighbourhood</th>\n",
       "    </tr>\n",
       "  </thead>\n",
       "  <tbody>\n",
       "    <tr>\n",
       "      <th>0</th>\n",
       "      <td>2017-01-01 00:03:00</td>\n",
       "      <td>1</td>\n",
       "      <td>0</td>\n",
       "      <td>1.5</td>\n",
       "      <td>43.653264</td>\n",
       "      <td>-79.382458</td>\n",
       "      <td>POINT (-79.38246 43.65326)</td>\n",
       "      <td>Bay Street Corridor</td>\n",
       "    </tr>\n",
       "    <tr>\n",
       "      <th>1</th>\n",
       "      <td>2017-01-01 00:03:00</td>\n",
       "      <td>1</td>\n",
       "      <td>0</td>\n",
       "      <td>1.5</td>\n",
       "      <td>43.639444</td>\n",
       "      <td>-79.425278</td>\n",
       "      <td>POINT (-79.42528 43.63944)</td>\n",
       "      <td>South Parkdale</td>\n",
       "    </tr>\n",
       "    <tr>\n",
       "      <th>2</th>\n",
       "      <td>2017-01-01 00:05:00</td>\n",
       "      <td>1</td>\n",
       "      <td>0</td>\n",
       "      <td>1.5</td>\n",
       "      <td>43.662712</td>\n",
       "      <td>-79.379903</td>\n",
       "      <td>POINT (-79.37990 43.66271)</td>\n",
       "      <td>Church-Yonge Corridor</td>\n",
       "    </tr>\n",
       "    <tr>\n",
       "      <th>3</th>\n",
       "      <td>2017-01-01 00:09:00</td>\n",
       "      <td>1</td>\n",
       "      <td>0</td>\n",
       "      <td>1.5</td>\n",
       "      <td>43.651667</td>\n",
       "      <td>-79.384167</td>\n",
       "      <td>POINT (-79.38417 43.65167)</td>\n",
       "      <td>Bay Street Corridor</td>\n",
       "    </tr>\n",
       "    <tr>\n",
       "      <th>4</th>\n",
       "      <td>2017-01-01 00:14:00</td>\n",
       "      <td>1</td>\n",
       "      <td>0</td>\n",
       "      <td>1.5</td>\n",
       "      <td>43.645323</td>\n",
       "      <td>-79.395003</td>\n",
       "      <td>POINT (-79.39500 43.64532)</td>\n",
       "      <td>Waterfront Communities-The Island</td>\n",
       "    </tr>\n",
       "  </tbody>\n",
       "</table>\n",
       "</div>"
      ],
      "text/plain": [
       "           start time  user type  Weather  Temp (°C)        lat        lon  \\\n",
       "0 2017-01-01 00:03:00          1        0        1.5  43.653264 -79.382458   \n",
       "1 2017-01-01 00:03:00          1        0        1.5  43.639444 -79.425278   \n",
       "2 2017-01-01 00:05:00          1        0        1.5  43.662712 -79.379903   \n",
       "3 2017-01-01 00:09:00          1        0        1.5  43.651667 -79.384167   \n",
       "4 2017-01-01 00:14:00          1        0        1.5  43.645323 -79.395003   \n",
       "\n",
       "                     geometry                      neighbourhood  \n",
       "0  POINT (-79.38246 43.65326)                Bay Street Corridor  \n",
       "1  POINT (-79.42528 43.63944)                     South Parkdale  \n",
       "2  POINT (-79.37990 43.66271)              Church-Yonge Corridor  \n",
       "3  POINT (-79.38417 43.65167)                Bay Street Corridor  \n",
       "4  POINT (-79.39500 43.64532)  Waterfront Communities-The Island  "
      ]
     },
     "execution_count": 44,
     "metadata": {},
     "output_type": "execute_result"
    }
   ],
   "source": [
    "data_merged_gdf.head()"
   ]
  },
  {
   "cell_type": "markdown",
   "metadata": {},
   "source": [
    "### Data Prep and Setting Up Test/Train Data"
   ]
  },
  {
   "cell_type": "markdown",
   "metadata": {},
   "source": [
    "Will be splitting the data into 75/25 since there is so much data, and do not want to overfit\n",
    "The columns that will be used to train the model is:\n",
    "\\\n",
    "Input: \\\n",
    "    Time: \\\n",
    "    -Start Month (0-11) \\\n",
    "    -Start Day(0-6) \\\n",
    "    -Start Hour (0-24) \\\n",
    "    Weather: \\\n",
    "    -Precipitation (0/1) \\\n",
    "    -Temperature ((-21.9)-(+34.1)) Standardized \\\n",
    "    User type: \\\n",
    "    -Casual vs. Annual member (0/1) \\\n",
    "    \\\n",
    "Output: \\\n",
    "    stop station(string of station name)....hopefully"
   ]
  },
  {
   "cell_type": "code",
   "execution_count": 45,
   "metadata": {
    "collapsed": false,
    "jupyter": {
     "outputs_hidden": false
    }
   },
   "outputs": [],
   "source": [
    "from sklearn.model_selection import train_test_split\n",
    "from sklearn.ensemble import RandomForestClassifier\n",
    "import numpy as np"
   ]
  },
  {
   "cell_type": "code",
   "execution_count": 59,
   "metadata": {},
   "outputs": [
    {
     "data": {
      "text/html": [
       "<div>\n",
       "<style scoped>\n",
       "    .dataframe tbody tr th:only-of-type {\n",
       "        vertical-align: middle;\n",
       "    }\n",
       "\n",
       "    .dataframe tbody tr th {\n",
       "        vertical-align: top;\n",
       "    }\n",
       "\n",
       "    .dataframe thead th {\n",
       "        text-align: right;\n",
       "    }\n",
       "</style>\n",
       "<table border=\"1\" class=\"dataframe\">\n",
       "  <thead>\n",
       "    <tr style=\"text-align: right;\">\n",
       "      <th></th>\n",
       "      <th>start time</th>\n",
       "      <th>user type</th>\n",
       "      <th>Weather</th>\n",
       "      <th>temp</th>\n",
       "      <th>neighbourhood</th>\n",
       "    </tr>\n",
       "  </thead>\n",
       "  <tbody>\n",
       "    <tr>\n",
       "      <th>0</th>\n",
       "      <td>2017-01-01 00:03:00</td>\n",
       "      <td>1</td>\n",
       "      <td>0</td>\n",
       "      <td>1.5</td>\n",
       "      <td>Bay Street Corridor</td>\n",
       "    </tr>\n",
       "    <tr>\n",
       "      <th>1</th>\n",
       "      <td>2017-01-01 00:03:00</td>\n",
       "      <td>1</td>\n",
       "      <td>0</td>\n",
       "      <td>1.5</td>\n",
       "      <td>South Parkdale</td>\n",
       "    </tr>\n",
       "    <tr>\n",
       "      <th>2</th>\n",
       "      <td>2017-01-01 00:05:00</td>\n",
       "      <td>1</td>\n",
       "      <td>0</td>\n",
       "      <td>1.5</td>\n",
       "      <td>Church-Yonge Corridor</td>\n",
       "    </tr>\n",
       "    <tr>\n",
       "      <th>3</th>\n",
       "      <td>2017-01-01 00:09:00</td>\n",
       "      <td>1</td>\n",
       "      <td>0</td>\n",
       "      <td>1.5</td>\n",
       "      <td>Bay Street Corridor</td>\n",
       "    </tr>\n",
       "    <tr>\n",
       "      <th>4</th>\n",
       "      <td>2017-01-01 00:14:00</td>\n",
       "      <td>1</td>\n",
       "      <td>0</td>\n",
       "      <td>1.5</td>\n",
       "      <td>Waterfront Communities-The Island</td>\n",
       "    </tr>\n",
       "  </tbody>\n",
       "</table>\n",
       "</div>"
      ],
      "text/plain": [
       "           start time  user type  Weather  temp  \\\n",
       "0 2017-01-01 00:03:00          1        0   1.5   \n",
       "1 2017-01-01 00:03:00          1        0   1.5   \n",
       "2 2017-01-01 00:05:00          1        0   1.5   \n",
       "3 2017-01-01 00:09:00          1        0   1.5   \n",
       "4 2017-01-01 00:14:00          1        0   1.5   \n",
       "\n",
       "                       neighbourhood  \n",
       "0                Bay Street Corridor  \n",
       "1                     South Parkdale  \n",
       "2              Church-Yonge Corridor  \n",
       "3                Bay Street Corridor  \n",
       "4  Waterfront Communities-The Island  "
      ]
     },
     "execution_count": 59,
     "metadata": {},
     "output_type": "execute_result"
    }
   ],
   "source": [
    "#preping final dataframe\n",
    "df_final = data_merged_gdf.drop(['lat', 'lon', 'geometry',],axis=1)\n",
    "df_final.rename(columns = {'Temp (°C)':'temp'}, inplace = True) #that sign was becoming annoying\n",
    "df_final.head()"
   ]
  },
  {
   "cell_type": "code",
   "execution_count": 60,
   "metadata": {
    "collapsed": false,
    "jupyter": {
     "outputs_hidden": false
    }
   },
   "outputs": [
    {
     "data": {
      "text/html": [
       "<div>\n",
       "<style scoped>\n",
       "    .dataframe tbody tr th:only-of-type {\n",
       "        vertical-align: middle;\n",
       "    }\n",
       "\n",
       "    .dataframe tbody tr th {\n",
       "        vertical-align: top;\n",
       "    }\n",
       "\n",
       "    .dataframe thead th {\n",
       "        text-align: right;\n",
       "    }\n",
       "</style>\n",
       "<table border=\"1\" class=\"dataframe\">\n",
       "  <thead>\n",
       "    <tr style=\"text-align: right;\">\n",
       "      <th></th>\n",
       "      <th>user type</th>\n",
       "      <th>Weather</th>\n",
       "      <th>temp</th>\n",
       "      <th>neighbourhood</th>\n",
       "      <th>start_month</th>\n",
       "      <th>start_weekday</th>\n",
       "      <th>start_hour</th>\n",
       "    </tr>\n",
       "  </thead>\n",
       "  <tbody>\n",
       "    <tr>\n",
       "      <th>0</th>\n",
       "      <td>1</td>\n",
       "      <td>0</td>\n",
       "      <td>-1.410237</td>\n",
       "      <td>Bay Street Corridor</td>\n",
       "      <td>1</td>\n",
       "      <td>1</td>\n",
       "      <td>0</td>\n",
       "    </tr>\n",
       "    <tr>\n",
       "      <th>1</th>\n",
       "      <td>1</td>\n",
       "      <td>0</td>\n",
       "      <td>-1.410237</td>\n",
       "      <td>South Parkdale</td>\n",
       "      <td>1</td>\n",
       "      <td>1</td>\n",
       "      <td>0</td>\n",
       "    </tr>\n",
       "    <tr>\n",
       "      <th>2</th>\n",
       "      <td>1</td>\n",
       "      <td>0</td>\n",
       "      <td>-1.410237</td>\n",
       "      <td>Church-Yonge Corridor</td>\n",
       "      <td>1</td>\n",
       "      <td>1</td>\n",
       "      <td>0</td>\n",
       "    </tr>\n",
       "    <tr>\n",
       "      <th>3</th>\n",
       "      <td>1</td>\n",
       "      <td>0</td>\n",
       "      <td>-1.410237</td>\n",
       "      <td>Bay Street Corridor</td>\n",
       "      <td>1</td>\n",
       "      <td>1</td>\n",
       "      <td>0</td>\n",
       "    </tr>\n",
       "    <tr>\n",
       "      <th>4</th>\n",
       "      <td>1</td>\n",
       "      <td>0</td>\n",
       "      <td>-1.410237</td>\n",
       "      <td>Waterfront Communities-The Island</td>\n",
       "      <td>1</td>\n",
       "      <td>1</td>\n",
       "      <td>0</td>\n",
       "    </tr>\n",
       "  </tbody>\n",
       "</table>\n",
       "</div>"
      ],
      "text/plain": [
       "   user type  Weather      temp                      neighbourhood  \\\n",
       "0          1        0 -1.410237                Bay Street Corridor   \n",
       "1          1        0 -1.410237                     South Parkdale   \n",
       "2          1        0 -1.410237              Church-Yonge Corridor   \n",
       "3          1        0 -1.410237                Bay Street Corridor   \n",
       "4          1        0 -1.410237  Waterfront Communities-The Island   \n",
       "\n",
       "   start_month  start_weekday  start_hour  \n",
       "0            1              1           0  \n",
       "1            1              1           0  \n",
       "2            1              1           0  \n",
       "3            1              1           0  \n",
       "4            1              1           0  "
      ]
     },
     "execution_count": 60,
     "metadata": {},
     "output_type": "execute_result"
    }
   ],
   "source": [
    "#Columns for training\n",
    "dict_seasons = {1:1, 2:1, 3:2, 4:2, 5:2, 6:3, 7:3, 8:3, 9:0, 10:0, 11:0, 12:1}  \n",
    "dict_days = {0:0, 1:0, 2:0, 3:0, 4:0, 5:1, 6:1}\n",
    "\n",
    "df_final['start_month'] = df_final['start time'].dt.month\n",
    "df_final = df_final.replace({'start_month': dict_seasons}) #season number\n",
    "\n",
    "df_final['start_weekday'] = df_final['start time'].dt.weekday\n",
    "df_final = df_final.replace({'start_weekday': dict_days}) #weekday or weekend\n",
    "\n",
    "df_final['start_hour'] = df_final['start time'].dt.hour\n",
    "\n",
    "df_final['temp'] = (df_final['temp'] - df_final['temp'].mean())/(df_final['temp'].std())\n",
    "\n",
    "df_final = df_final.drop(['start time'],axis=1) #dont need this column anymore\n",
    "\n",
    "df_final.head()"
   ]
  },
  {
   "cell_type": "code",
   "execution_count": 61,
   "metadata": {},
   "outputs": [],
   "source": [
    "df_final = df_final[~df_final['neighbourhood'].isna()]"
   ]
  },
  {
   "cell_type": "code",
   "execution_count": 62,
   "metadata": {
    "collapsed": false,
    "jupyter": {
     "outputs_hidden": false
    }
   },
   "outputs": [],
   "source": [
    "train_data, test_data = train_test_split(df_final, test_size=0.25, random_state=42)"
   ]
  },
  {
   "cell_type": "code",
   "execution_count": 63,
   "metadata": {},
   "outputs": [],
   "source": [
    "columns = ['user type', 'Weather', 'temp', 'start_month', 'start_weekday', 'start_hour']\n",
    "X_train = train_data[columns]\n",
    "y_train = train_data['neighbourhood']\n",
    "X_test = test_data[columns]\n",
    "y_test = test_data['neighbourhood']"
   ]
  },
  {
   "cell_type": "markdown",
   "metadata": {
    "tags": []
   },
   "source": [
    "### Base RandomForest Model"
   ]
  },
  {
   "cell_type": "code",
   "execution_count": 64,
   "metadata": {
    "collapsed": false,
    "jupyter": {
     "outputs_hidden": false
    }
   },
   "outputs": [],
   "source": [
    "model = RandomForestClassifier(n_estimators=_, \n",
    "                               max_features=_,\n",
    "                               bootstrap=True,\n",
    "                               max_samples=_)"
   ]
  },
  {
   "cell_type": "code",
   "execution_count": null,
   "metadata": {},
   "outputs": [],
   "source": [
    "model.fit(X_train, y_train)"
   ]
  },
  {
   "cell_type": "code",
   "execution_count": null,
   "metadata": {},
   "outputs": [],
   "source": [
    "model.estimators_"
   ]
  },
  {
   "cell_type": "markdown",
   "metadata": {},
   "source": [
    "#### Accuracy and performance, and Final Model"
   ]
  },
  {
   "cell_type": "code",
   "execution_count": 66,
   "metadata": {},
   "outputs": [],
   "source": [
    "def friendship_test(X_columns, y_answer, model=model, size=100000):\n",
    "    '''\n",
    "    calulcates the accuracy of the prediction, divided up so my computer can handle the stuff\n",
    "    '''\n",
    "    x = len(y_answer) #indexes where the scores will be calculated\n",
    "    idx=0 #first index\n",
    "    score_list = [] #empty list where scores will be put\n",
    "    #calculate all the scores and put into list\n",
    "    while idx<x:\n",
    "        score = model.score(X_columns[idx:(idx+size)], y_answer[idx:(idx+size)])\n",
    "        score_list.append(score)\n",
    "        idx = idx + size\n",
    "        \n",
    "    #calculate the average score of the list\n",
    "    acc = (sum(score_list))/(len(score_list))    \n",
    "    return acc"
   ]
  },
  {
   "cell_type": "code",
   "execution_count": 69,
   "metadata": {},
   "outputs": [],
   "source": [
    "#how does the n_estimators affect the accuracy\n",
    "\n",
    "def n_performance(n_est):\n",
    "    '''\n",
    "    input: number of estimators in model\n",
    "    output: accuracy of model with n_est estimators\n",
    "    '''\n",
    "    model = RandomForestClassifier(n_estimators=n_est, \n",
    "                                   max_features=0.75,\n",
    "                                   bootstrap=True,\n",
    "                                   max_samples=0.75)\n",
    "    #fit new model\n",
    "    model.fit(X_train, y_train)\n",
    "    #performance of the model\n",
    "    acc = model.score(X_train[0:40000], y_train[0:40000])\n",
    "    return acc"
   ]
  },
  {
   "cell_type": "code",
   "execution_count": null,
   "metadata": {},
   "outputs": [],
   "source": [
    "n_ests = np.arange(1, 7, 1)\n",
    "n_ests_acc = [n_performance(n) for n in n_ests]\n",
    "\n",
    "ax = plt.plot(n_ests, n_ests_acc)\n",
    "ax.xlabel('Number of Estimators', fontsize=14)\n",
    "ax.ylabel('Performance', fontsize=14)\n",
    "plt.show()"
   ]
  },
  {
   "cell_type": "code",
   "execution_count": 77,
   "metadata": {},
   "outputs": [
    {
     "ename": "AttributeError",
     "evalue": "'list' object has no attribute 'set_xlabel'",
     "output_type": "error",
     "traceback": [
      "\u001b[1;31m---------------------------------------------------------------------------\u001b[0m",
      "\u001b[1;31mAttributeError\u001b[0m                            Traceback (most recent call last)",
      "Input \u001b[1;32mIn [77]\u001b[0m, in \u001b[0;36m<cell line: 2>\u001b[1;34m()\u001b[0m\n\u001b[0;32m      1\u001b[0m ax \u001b[38;5;241m=\u001b[39m plt\u001b[38;5;241m.\u001b[39mplot(n_ests, n_ests_acc)\n\u001b[1;32m----> 2\u001b[0m \u001b[43max\u001b[49m\u001b[38;5;241;43m.\u001b[39;49m\u001b[43mset_xlabel\u001b[49m(\u001b[38;5;124m'\u001b[39m\u001b[38;5;124mNumber of Estimators\u001b[39m\u001b[38;5;124m'\u001b[39m, fontsize\u001b[38;5;241m=\u001b[39m\u001b[38;5;241m14\u001b[39m)\n\u001b[0;32m      3\u001b[0m ax\u001b[38;5;241m.\u001b[39mset_ylabel(\u001b[38;5;124m'\u001b[39m\u001b[38;5;124mPerformance\u001b[39m\u001b[38;5;124m'\u001b[39m, fontsize\u001b[38;5;241m=\u001b[39m\u001b[38;5;241m14\u001b[39m)\n\u001b[0;32m      4\u001b[0m plt\u001b[38;5;241m.\u001b[39mshow()\n",
      "\u001b[1;31mAttributeError\u001b[0m: 'list' object has no attribute 'set_xlabel'"
     ]
    },
    {
     "data": {
      "image/png": "[encoded data removed]",
      "text/plain": [
       "<Figure size 432x288 with 1 Axes>"
      ]
     },
     "metadata": {},
     "output_type": "display_data"
    }
   ],
   "source": [
    "ax = plt.plot(n_ests, n_ests_acc)\n",
    "ax.set_xlabel('Number of Estimators', fontsize=14)\n",
    "ax.set_ylabel('Performance', fontsize=14)\n",
    "plt.show()"
   ]
  },
  {
   "cell_type": "code",
   "execution_count": 78,
   "metadata": {},
   "outputs": [],
   "source": [
    "def max_features_performance(mf_n):\n",
    "    '''\n",
    "    input: number of max features\n",
    "    output: accuracy of model with n max features\n",
    "    '''\n",
    "    model = RandomForestClassifier(n_estimators=3, \n",
    "                                   max_features=mf_n,\n",
    "                                   bootstrap=True,\n",
    "                                   max_samples=0.75)\n",
    "    #fit new model\n",
    "    model.fit(X_train, y_train)\n",
    "    #performance of the model\n",
    "    acc = model.score(X_train[0:40000], y_train[0:40000])\n",
    "    return acc"
   ]
  },
  {
   "cell_type": "code",
   "execution_count": 79,
   "metadata": {},
   "outputs": [],
   "source": [
    "n_feat = np.arange(0.1, 1.1, 0.1)\n",
    "n_feat_acc = [max_features_performance(n) for n in n_feat]"
   ]
  },
  {
   "cell_type": "code",
   "execution_count": 80,
   "metadata": {},
   "outputs": [
    {
     "ename": "AttributeError",
     "evalue": "'list' object has no attribute 'set_xlabel'",
     "output_type": "error",
     "traceback": [
      "\u001b[1;31m---------------------------------------------------------------------------\u001b[0m",
      "\u001b[1;31mAttributeError\u001b[0m                            Traceback (most recent call last)",
      "Input \u001b[1;32mIn [80]\u001b[0m, in \u001b[0;36m<cell line: 2>\u001b[1;34m()\u001b[0m\n\u001b[0;32m      1\u001b[0m ax \u001b[38;5;241m=\u001b[39m plt\u001b[38;5;241m.\u001b[39mplot(n_feat, n_feat_acc)\n\u001b[1;32m----> 2\u001b[0m \u001b[43max\u001b[49m\u001b[38;5;241;43m.\u001b[39;49m\u001b[43mset_xlabel\u001b[49m(\u001b[38;5;124m'\u001b[39m\u001b[38;5;124mMax Features\u001b[39m\u001b[38;5;124m'\u001b[39m, fontsize\u001b[38;5;241m=\u001b[39m\u001b[38;5;241m14\u001b[39m)\n\u001b[0;32m      3\u001b[0m ax\u001b[38;5;241m.\u001b[39mset_ylabel(\u001b[38;5;124m'\u001b[39m\u001b[38;5;124mPerformance\u001b[39m\u001b[38;5;124m'\u001b[39m, fontsize\u001b[38;5;241m=\u001b[39m\u001b[38;5;241m14\u001b[39m)\n\u001b[0;32m      4\u001b[0m plt\u001b[38;5;241m.\u001b[39mshow()\n",
      "\u001b[1;31mAttributeError\u001b[0m: 'list' object has no attribute 'set_xlabel'"
     ]
    },
    {
     "data": {
      "image/png": "[encoded data removed]",
      "text/plain": [
       "<Figure size 432x288 with 1 Axes>"
      ]
     },
     "metadata": {},
     "output_type": "display_data"
    }
   ],
   "source": [
    "ax = plt.plot(n_feat, n_feat_acc)\n",
    "ax.set_xlabel('Max Features', fontsize=14)\n",
    "ax.set_ylabel('Performance', fontsize=14)\n",
    "plt.show()"
   ]
  },
  {
   "cell_type": "code",
   "execution_count": 81,
   "metadata": {},
   "outputs": [],
   "source": [
    "def max_samples_performance(mf_n):\n",
    "    '''\n",
    "    input: number of max features\n",
    "    output: accuracy of model with n max features\n",
    "    '''\n",
    "    model = RandomForestClassifier(n_estimators=3, \n",
    "                                   max_features=0.75,\n",
    "                                   bootstrap=True,\n",
    "                                   max_samples=mf_n)\n",
    "    #fit new model\n",
    "    model.fit(X_train, y_train)\n",
    "    #performance of the model\n",
    "    acc = model.score(X_train[0:100000], y_train[0:100000])\n",
    "    return acc"
   ]
  },
  {
   "cell_type": "code",
   "execution_count": 82,
   "metadata": {},
   "outputs": [],
   "source": [
    "n_samp = np.arange(0.1, 1.1, 0.1)\n",
    "n_samp_acc = [max_samples_performance(n) for n in n_samp]"
   ]
  },
  {
   "cell_type": "code",
   "execution_count": 83,
   "metadata": {},
   "outputs": [
    {
     "ename": "AttributeError",
     "evalue": "'list' object has no attribute 'set_xlabel'",
     "output_type": "error",
     "traceback": [
      "\u001b[1;31m---------------------------------------------------------------------------\u001b[0m",
      "\u001b[1;31mAttributeError\u001b[0m                            Traceback (most recent call last)",
      "Input \u001b[1;32mIn [83]\u001b[0m, in \u001b[0;36m<cell line: 2>\u001b[1;34m()\u001b[0m\n\u001b[0;32m      1\u001b[0m ax \u001b[38;5;241m=\u001b[39m plt\u001b[38;5;241m.\u001b[39mplot(n_samp, n_samp_acc)\n\u001b[1;32m----> 2\u001b[0m \u001b[43max\u001b[49m\u001b[38;5;241;43m.\u001b[39;49m\u001b[43mset_xlabel\u001b[49m(\u001b[38;5;124m'\u001b[39m\u001b[38;5;124mMax Samples\u001b[39m\u001b[38;5;124m'\u001b[39m, fontsize\u001b[38;5;241m=\u001b[39m\u001b[38;5;241m14\u001b[39m)\n\u001b[0;32m      3\u001b[0m ax\u001b[38;5;241m.\u001b[39mset_ylabel(\u001b[38;5;124m'\u001b[39m\u001b[38;5;124mPerformance\u001b[39m\u001b[38;5;124m'\u001b[39m, fontsize\u001b[38;5;241m=\u001b[39m\u001b[38;5;241m14\u001b[39m)\n\u001b[0;32m      4\u001b[0m plt\u001b[38;5;241m.\u001b[39mshow()\n",
      "\u001b[1;31mAttributeError\u001b[0m: 'list' object has no attribute 'set_xlabel'"
     ]
    },
    {
     "data": {
      "image/png": "[encoded data removed]",
      "text/plain": [
       "<Figure size 432x288 with 1 Axes>"
      ]
     },
     "metadata": {},
     "output_type": "display_data"
    }
   ],
   "source": [
    "ax = plt.plot(n_samp, n_samp_acc)\n",
    "ax.set_xlabel('Max Samples', fontsize=14)\n",
    "ax.set_ylabel('Performance', fontsize=14)\n",
    "plt.show()"
   ]
  },
  {
   "cell_type": "code",
   "execution_count": 84,
   "metadata": {},
   "outputs": [
    {
     "data": {
      "text/plain": [
       "RandomForestClassifier(max_features=0.4, max_samples=0.9, n_estimators=6)"
      ]
     },
     "execution_count": 84,
     "metadata": {},
     "output_type": "execute_result"
    }
   ],
   "source": [
    "#final model\n",
    "model = RandomForestClassifier(n_estimators=6, \n",
    "                               max_features=0.4,\n",
    "                               bootstrap=True,\n",
    "                               max_samples=0.9)\n",
    "#fit new model\n",
    "model.fit(X_train, y_train)"
   ]
  },
  {
   "cell_type": "code",
   "execution_count": 85,
   "metadata": {},
   "outputs": [
    {
     "data": {
      "text/plain": [
       "0.22842093448328002"
      ]
     },
     "execution_count": 85,
     "metadata": {},
     "output_type": "execute_result"
    }
   ],
   "source": [
    "#accuracy of the whole training set\n",
    "friendship_test(X_train, y_train, model) "
   ]
  },
  {
   "cell_type": "code",
   "execution_count": 86,
   "metadata": {
    "collapsed": false,
    "jupyter": {
     "outputs_hidden": false
    }
   },
   "outputs": [
    {
     "data": {
      "text/plain": [
       "0.22924"
      ]
     },
     "execution_count": 86,
     "metadata": {},
     "output_type": "execute_result"
    }
   ],
   "source": [
    "#training accuracy of first 100,000\n",
    "model.score(X_train[0:100000], y_train[0:100000])"
   ]
  },
  {
   "cell_type": "code",
   "execution_count": 87,
   "metadata": {},
   "outputs": [
    {
     "data": {
      "text/plain": [
       "0.21821"
      ]
     },
     "execution_count": 87,
     "metadata": {},
     "output_type": "execute_result"
    }
   ],
   "source": [
    "#testing accuracy of the first 100,000\n",
    "model.score(X_test[0:100000], y_test[0:100000])"
   ]
  },
  {
   "cell_type": "code",
   "execution_count": 102,
   "metadata": {},
   "outputs": [],
   "source": [
    "destinations = model.predict(X_test[100000:200000])"
   ]
  },
  {
   "cell_type": "code",
   "execution_count": 103,
   "metadata": {},
   "outputs": [],
   "source": [
    "destination_df = pd.DataFrame({'destinations':destinations})\n",
    "top5 = destination_df.groupby('destinations').size().sort_values(ascending=False)"
   ]
  },
  {
   "cell_type": "code",
   "execution_count": 104,
   "metadata": {},
   "outputs": [],
   "source": [
    "top5_values = [i for i in top5[0:5].values]"
   ]
  },
  {
   "cell_type": "code",
   "execution_count": 105,
   "metadata": {
    "tags": []
   },
   "outputs": [
    {
     "data": {
      "image/png": "[encoded data removed]",
      "text/plain": [
       "<Figure size 432x288 with 1 Axes>"
      ]
     },
     "metadata": {},
     "output_type": "display_data"
    }
   ],
   "source": [
    "ax = sns.barplot(x = top5[0:5].index, \n",
    "                 y = top5_values\n",
    "                )\n",
    "ax.set_xlabel('Destinations', fontsize=14)\n",
    "ax.set_ylabel('Arrival per 100,000 Trips', fontsize=14)\n",
    "ax.set_xticklabels(ax.get_xticklabels(), rotation=90)\n",
    "plt.show()"
   ]
  },
  {
   "cell_type": "code",
   "execution_count": null,
   "metadata": {},
   "outputs": [],
   "source": [
    "#can use model to predict whatever\n",
    "#model.predict(['user type', 'Weather', 'temp', 'start_month', 'start_weekday', 'start_hour']\n",
    "\n",
    "#annual member in summer at 8 and 9 oclock when temp is 23, no precipitation, on a monday\n",
    "model.predict([1, 0, 23, 3, 0, 9])"
   ]
  }
 ],
 "metadata": {
  "kernelspec": {
   "display_name": "Python 3 (ipykernel)",
   "language": "python",
   "name": "python3"
  },
  "language_info": {
   "codemirror_mode": {
    "name": "ipython",
    "version": 3
   },
   "file_extension": ".py",
   "mimetype": "text/x-python",
   "name": "python",
   "nbconvert_exporter": "python",
   "pygments_lexer": "ipython3",
   "version": "3.9.12"
  }
 },
 "nbformat": 4,
 "nbformat_minor": 4
}
